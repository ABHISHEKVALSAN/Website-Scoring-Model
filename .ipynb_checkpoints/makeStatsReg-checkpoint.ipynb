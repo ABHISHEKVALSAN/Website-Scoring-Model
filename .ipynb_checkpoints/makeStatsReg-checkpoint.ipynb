{
 "cells": [
  {
   "cell_type": "code",
   "execution_count": 280,
   "metadata": {},
   "outputs": [],
   "source": [
    "import pandas as pd\n",
    "import numpy as np\n",
    "import matplotlib.pyplot as plt\n",
    "import seaborn as sns\n",
    "from sklearn import preprocessing\n",
    "import statsmodels.formula.api as smf"
   ]
  },
  {
   "cell_type": "code",
   "execution_count": 281,
   "metadata": {},
   "outputs": [],
   "source": [
    "dfr=pd.read_csv('tempSiteRatings.csv')\n",
    "dfd=pd.read_csv('tempUrlMetrics.csv')\n",
    "dfd['rating']=dfr['rating']\n",
    "dfd.to_csv('dataReg.csv')"
   ]
  },
  {
   "cell_type": "code",
   "execution_count": 282,
   "metadata": {},
   "outputs": [],
   "source": [
    "data=pd.read_csv('dataReg.csv')\n",
    "data.drop(['Unnamed: 0'],1, inplace=True)"
   ]
  },
  {
   "cell_type": "code",
   "execution_count": 284,
   "metadata": {},
   "outputs": [],
   "source": [
    "def changeColName(data):\n",
    "    try:\n",
    "        columns=['word_count','body_text_percent','emphasized_text_percent','text_position_changes','text_cluster_count','link_count','page_size','graphic_percent','graphic_count','colour_count','font_count','colourfulness','visual_complexity','rating']\n",
    "        data.columns=columns\n",
    "    except:\n",
    "        columns=['word_count','body_text_percent','emphasized_text_percent','text_position_changes','text_cluster_count','link_count','page_size','graphic_percent','graphic_count','colour_count','font_count','colourfulness','visual_complexity']\n",
    "        data.columns=columns\n",
    "    return data\n",
    "def dropMetrics(data):\n",
    "    try:\n",
    "        data.drop(['id','url'],1, inplace=True)#,'p1','p2','p4','p6','p7','p10','p11','p12','p13'\n",
    "    except:\n",
    "        data.drop(['slno','url'],1, inplace=True)\n",
    "    return data\n",
    "def stdNormal(data,mean,std):\n",
    "    x = data.values #returns a numpy array\n",
    "    columns=data.columns\n",
    "    x_scaled=(x-mean)/std\n",
    "    data=pd.DataFrame(x_scaled,columns=columns)\n",
    "    return data\n",
    "def catCol(data,col):\n",
    "    data[col+'_high']=np.zeros(data[col].shape)\n",
    "    data[col+'_avg']=np.ones(data[col].shape)\n",
    "    data[col+'_low']=np.zeros(data[col].shape)\n",
    "\n",
    "    data[col+'_high'][np.where(data[col]>.431)[0]]=1.0\n",
    "    data[col+'_avg'][np.where(data[col]>.431)[0]]=0.0\n",
    "    data[col+'_avg'][np.where(data[col]<-.431)[0]]=0.0\n",
    "    data[col+'_low'][np.where(data[col]<-.431)[0]]=1.0\n",
    "    data.drop([col],1,inplace=True)\n",
    "    return data\n",
    "def catColPdf(data,col):\n",
    "    import scipy.stats\n",
    "    \n",
    "    mean_high=np.mean(data[col][np.where(data[col]>.431)[0]])\n",
    "    std_high=np.std(data[col][np.where(data[col]>.431)[0]])\n",
    "\n",
    "\n",
    "    mean_avg=np.mean(data[col][np.where(abs(data[col])<.431)[0]])\n",
    "    std_avg=np.std(data[col][np.where(abs(data[col])<.431)[0]])\n",
    "\n",
    "    mean_low=np.mean(data[col][np.where(data[col]<-.431)[0]])\n",
    "    std_low=np.std(data[col][np.where(data[col]<-.431)[0]])\n",
    "\n",
    "    data[col+'_high']=scipy.stats.norm(mean_high,std_high).pdf(data[col].values)\n",
    "    data[col+'_avg']=scipy.stats.norm(mean_avg,std_avg).pdf(data[col].values)\n",
    "    data[col+'_low']=scipy.stats.norm(mean_low,std_low).pdf(data[col].values)\n",
    "    \n",
    "    data.drop([col],1,inplace=True)\n",
    "    \n",
    "    return data\n",
    "def preProcess(data,mean,std):\n",
    "    data=changeColName(data)\n",
    "    try:\n",
    "        rating=data['rating']\n",
    "        data.drop(['rating'],1,inplace=True)\n",
    "    except:\n",
    "        pass\n",
    "    data=stdNormal(data,mean,std)\n",
    "    data=catCol(data,'word_count')\n",
    "    data=catCol(data,'page_size') \n",
    "    data=catCol(data,'colourfulness') \n",
    "    data=catCol(data,'visual_complexity') \n",
    "    try:\n",
    "        data['rating']=rating\n",
    "    except:\n",
    "        pass\n",
    "    return data"
   ]
  },
  {
   "cell_type": "code",
   "execution_count": 285,
   "metadata": {},
   "outputs": [],
   "source": [
    "data=dropMetrics(data)"
   ]
  },
  {
   "cell_type": "code",
   "execution_count": 286,
   "metadata": {},
   "outputs": [],
   "source": [
    "mean=np.mean(data.values[:,:-1],axis=0)\n",
    "std=np.std(data.values[:,:-1],axis=0)\n"
   ]
  },
  {
   "cell_type": "code",
   "execution_count": 287,
   "metadata": {},
   "outputs": [
    {
     "name": "stderr",
     "output_type": "stream",
     "text": [
      "/usr/local/lib/python3.6/site-packages/ipykernel_launcher.py:18: RuntimeWarning: invalid value encountered in true_divide\n"
     ]
    }
   ],
   "source": [
    "data=preProcess(data,mean,std)\n",
    "irrCol=['emphasized_text_percent','font_count']\n",
    "data.drop(irrCol,1,inplace=True)"
   ]
  },
  {
   "cell_type": "code",
   "execution_count": 288,
   "metadata": {},
   "outputs": [],
   "source": [
    "correlation = data.corr(method='pearson')\n",
    "columns = correlation.nlargest(30,'rating').index\n"
   ]
  },
  {
   "cell_type": "code",
   "execution_count": 289,
   "metadata": {},
   "outputs": [],
   "source": [
    "def corr():\n",
    "    fig, ax = plt.subplots(figsize=(30,30))    \n",
    "    correlation_map = np.corrcoef(data[columns].values.T)\n",
    "    sns.set(font_scale=2.4)\n",
    "    heatmap = sns.heatmap(correlation_map, cbar=True, annot=True, annot_kws={\"size\": 30},square=True, fmt='.2f',yticklabels=columns.values, xticklabels=columns.values)\n",
    "    plt.rcParams[\"font.family\"] = \"Times New Roman\"\n",
    "    plt.rcParams[\"font.size\"] = 50\n",
    "    plt.savefig('corr')"
   ]
  },
  {
   "cell_type": "code",
   "execution_count": 290,
   "metadata": {},
   "outputs": [],
   "source": [
    "columns=columns.tolist()\n",
    "columns=pd.Index(columns)"
   ]
  },
  {
   "cell_type": "code",
   "execution_count": 342,
   "metadata": {},
   "outputs": [
    {
     "name": "stderr",
     "output_type": "stream",
     "text": [
      "/usr/local/lib/python3.6/site-packages/pandas/core/frame.py:3697: SettingWithCopyWarning: \n",
      "A value is trying to be set on a copy of a slice from a DataFrame\n",
      "\n",
      "See the caveats in the documentation: http://pandas.pydata.org/pandas-docs/stable/indexing.html#indexing-view-versus-copy\n",
      "  errors=errors)\n"
     ]
    }
   ],
   "source": [
    "Y=data['rating'].values\n",
    "X_temp=data[columns]\n",
    "X_temp.drop(['rating'],1, inplace=True)\n",
    "X=X_temp.values"
   ]
  },
  {
   "cell_type": "code",
   "execution_count": 343,
   "metadata": {},
   "outputs": [],
   "source": [
    "from sklearn.model_selection import train_test_split\n",
    "X_train, X_test, Y_train, Y_test = train_test_split(X, Y, shuffle=True,test_size=0.3, random_state=1)\n",
    "\n",
    "def LinearReg():\n",
    "    from sklearn.linear_model import LinearRegression\n",
    "    reg =LinearRegression(normalize=True)\n",
    "    return reg\n",
    "def RidgeReg():\n",
    "    from sklearn.linear_model import Ridge\n",
    "    reg =Ridge(alpha=1.0, copy_X=True, fit_intercept=True, max_iter=None,normalize=False, random_state=1, solver='svd', tol=0.001)\n",
    "    return reg\n",
    "def MLPReg():\n",
    "    from sklearn.neural_network import MLPRegressor\n",
    "    reg=MLPRegressor(hidden_layer_sizes=(23,),activation='logistic',solver='adam', max_iter=10000,batch_size=10,alpha=0.01)\n",
    "    return reg\n",
    "def KNNReg():\n",
    "    from sklearn.neighbors import KNeighborsRegressor\n",
    "    reg=KNeighborsRegressor(n_neighbors=5,algorithm='brute',metric='manhattan')\n",
    "    return reg\n",
    "def RMS_test(reg):\n",
    "    from sklearn.metrics import mean_squared_error\n",
    "    Y_pred=reg.predict(X_test)\n",
    "    return Y_pred,mean_squared_error(Y_test, Y_pred)\n",
    "def RMS_train(reg):\n",
    "    from sklearn.metrics import mean_squared_error\n",
    "    Y_pred=reg.predict(X_train)\n",
    "    return Y_pred,mean_squared_error(Y_train, Y_pred)\n",
    "def RMS(reg):\n",
    "    from sklearn.metrics import mean_squared_error\n",
    "    Y_pred=reg.predict(X)\n",
    "    return Y_pred,mean_squared_error(Y, Y_pred)\n",
    "def getRMS(reg):\n",
    "    print(RMS_test(reg)[1],RMS_train(reg)[1])\n",
    "def getRV(reg):\n",
    "    Y_pred=RMS_test(reg)[0]\n",
    "    Y_pred=RMS(reg)[0]\n",
    "    rsq=np.sum((Y_pred-np.mean(Y_pred))**2)/np.sum((Y-np.mean(Y))**2)\n",
    "    N,p=X.shape\n",
    "    adjRsq=1-((1-rsq)*(N-1)/(N-p-1))\n",
    "    print(rsq,adjRsq)"
   ]
  },
  {
   "cell_type": "code",
   "execution_count": 344,
   "metadata": {},
   "outputs": [],
   "source": [
    "regLinear=LinearReg()\n",
    "regLinear.fit(X_train,Y_train)\n",
    "\n",
    "regRidge=RidgeReg()\n",
    "regRidge.fit(X_train,Y_train)\n",
    "\n",
    "regMLP=MLPReg()\n",
    "regMLP.fit(X_train,Y_train)\n",
    "\n",
    "regKNN=KNNReg()\n",
    "regKNN.fit(X_train,Y_train)\n",
    "\n",
    "temp=0"
   ]
  },
  {
   "cell_type": "code",
   "execution_count": 345,
   "metadata": {},
   "outputs": [
    {
     "name": "stdout",
     "output_type": "stream",
     "text": [
      "0.8244547791465318 0.45500635514235627\n",
      "0.7921293832493561 0.4602724245133802\n",
      "0.775600358935138 0.05102469558420704\n",
      "0.8474273231200308 0.48182256787147865\n"
     ]
    }
   ],
   "source": [
    "getRMS(regLinear)\n",
    "getRMS(regRidge)\n",
    "getRMS(regMLP)\n",
    "getRMS(regKNN)"
   ]
  },
  {
   "cell_type": "code",
   "execution_count": 346,
   "metadata": {},
   "outputs": [
    {
     "name": "stdout",
     "output_type": "stream",
     "text": [
      "0.39267532081341644 0.23674060588713142\n",
      "0.3193192136739357 0.14454982259021643\n",
      "0.7344168543956037 0.6662265872809614\n",
      "0.1442937546246311 -0.07541460567445002\n"
     ]
    }
   ],
   "source": [
    "getRV(regLinear)\n",
    "getRV(regRidge)\n",
    "getRV(regMLP)\n",
    "getRV(regKNN)"
   ]
  },
  {
   "cell_type": "code",
   "execution_count": 333,
   "metadata": {},
   "outputs": [
    {
     "name": "stdout",
     "output_type": "stream",
     "text": [
      "[ 0.3160963   0.07044509  0.25844812  0.62915258  0.04112125 -0.06122946\n",
      " -0.12353413  0.02977424  0.15341925 -0.18755524  0.05310072 -0.08870703\n",
      " -0.1361118   0.07389667 -0.18135576 -0.16963069 -0.30916479 -0.16206067\n",
      " -1.28297824]\n",
      "4.3516689439821885\n"
     ]
    }
   ],
   "source": [
    "try:\n",
    "    print(regLinear.coef_)\n",
    "    print(regLinear.intercept_)\n",
    "except: \n",
    "    pass"
   ]
  },
  {
   "cell_type": "code",
   "execution_count": 240,
   "metadata": {},
   "outputs": [],
   "source": [
    "def rateCountry(reg,regName):\n",
    "    df={}\n",
    "    irrCol=['emphasized_text_percent','font_count']\n",
    "    country=['India','Usa']\n",
    "    for year in country:\n",
    "        df[str(year)]=pd.read_csv('yearMetrics/tempUrlMetrics'+str(year)+'.csv')\n",
    "        df[str(year)]=dropMetrics(df[str(year)])\n",
    "        df[str(year)]=preProcess(df[str(year)],mean,std)\n",
    "        df[str(year)].drop(irrCol,1,inplace=True)\n",
    "    meanYears=np.zeros(2)\n",
    "    stdYears=np.zeros(2)\n",
    "\n",
    "    ind=-1\n",
    "    countryRating=[0,0]\n",
    "    for year in country:\n",
    "        ind+=1\n",
    "        countryRating[ind]=reg.predict(df[str(year)][columns[1:]].values)\n",
    "    x =countryRating[0]\n",
    "    m=max(x)\n",
    "    interval=None\n",
    "    interval=[0,6]\n",
    "    num_bins = 100\n",
    "    fig, ax = plt.subplots(figsize=(20,12))\n",
    "    plt.rcParams[\"font.family\"] = \"Times New Roman\"\n",
    "    plt.rcParams[\"font.size\"] = 36\n",
    "    plt.xlabel(\"Rating\")\n",
    "    plt.ylabel(\" Number of Indian Sites\")\n",
    "    n, bins, patches = plt.hist(x,num_bins, range=interval,facecolor='blue', alpha=0.5)\n",
    "    plt.savefig(\"histIndia\"+regName)\n",
    "    plt.show()\n",
    "    x =countryRating[1]\n",
    "    m=max(x)\n",
    "    interval=None\n",
    "    interval=[0,6]\n",
    "    num_bins = 100\n",
    "    fig, ax = plt.subplots(figsize=(20,12))\n",
    "    plt.rcParams[\"font.family\"] = \"Times New Roman\"\n",
    "    plt.rcParams[\"font.size\"] = 36\n",
    "    plt.xlabel(\"Rating\")\n",
    "    plt.ylabel(\" Number of Usa Sites\")\n",
    "    n, bins, patches = plt.hist(x,num_bins, range=interval,facecolor='blue', alpha=0.5)\n",
    "    plt.savefig(\"histUsa\"+regName)\n",
    "    plt.show()"
   ]
  },
  {
   "cell_type": "code",
   "execution_count": 241,
   "metadata": {},
   "outputs": [],
   "source": [
    "def showEvolution(reg,regName):\n",
    "    df={}\n",
    "    irrCol=['emphasized_text_percent','font_count']\n",
    "    for year in range(2000,2020):\n",
    "        df[str(year)]=pd.read_csv('yearMetrics/tempMpUrlMetrics'+str(year)+'.csv')\n",
    "        df[str(year)]=dropMetrics(df[str(year)])\n",
    "        df[str(year)]=preProcess(df[str(year)],mean,std)\n",
    "        df[str(year)].drop(irrCol,1,inplace=True)\n",
    "    meanYears=np.zeros(20)\n",
    "    stdYears=np.zeros(20)\n",
    "    for year in range(2000,2020):\n",
    "        meanYears[year-2000]=np.mean(reg.predict(df[str(year)][columns[1:]].values))\n",
    "        stdYears[year-2000]=np.std(reg.predict(df[str(year)][columns[1:]].values))\n",
    "    fig, ax = plt.subplots(figsize=(6,6))\n",
    "    x=range(2000,2020)\n",
    "    y=meanYears\n",
    "    e=stdYears*0\n",
    "    plt.errorbar(x, y, e, fmt='-o')\n",
    "    plt.xticks(np.arange(min(x), max(x)+1, 5))\n",
    "    plt.rcParams[\"font.family\"] = \"Times New Roman\"\n",
    "    plt.rcParams[\"font.size\"] = 16\n",
    "    plt.ylabel('Website rating')\n",
    "    plt.xlabel('Year')\n",
    "    plt.savefig('modelReg'+regName)"
   ]
  },
  {
   "cell_type": "code",
   "execution_count": null,
   "metadata": {},
   "outputs": [],
   "source": [
    "showEvolution(regLinear,\"Linear\")\n",
    "showEvolution(regRidge,\"Ridge\")\n",
    "showEvolution(regMLP,\"MLP\")\n",
    "showEvolution(regKNN,\"KNN\")"
   ]
  },
  {
   "cell_type": "code",
   "execution_count": null,
   "metadata": {},
   "outputs": [],
   "source": [
    "rateCountry(regLinear,\"Linear\")\n",
    "rateCountry(regRidge,\"Ridge\")\n",
    "rateCountry(regMLP,\"MLP\")\n",
    "rateCountry(regKNN,\"KNN\")"
   ]
  }
 ],
 "metadata": {
  "kernelspec": {
   "display_name": "Python 3",
   "language": "python",
   "name": "python3"
  },
  "language_info": {
   "codemirror_mode": {
    "name": "ipython",
    "version": 3
   },
   "file_extension": ".py",
   "mimetype": "text/x-python",
   "name": "python",
   "nbconvert_exporter": "python",
   "pygments_lexer": "ipython3",
   "version": "3.6.1"
  }
 },
 "nbformat": 4,
 "nbformat_minor": 2
}
