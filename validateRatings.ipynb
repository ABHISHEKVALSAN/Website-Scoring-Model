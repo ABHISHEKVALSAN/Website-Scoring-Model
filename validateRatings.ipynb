{
 "cells": [
  {
   "cell_type": "code",
   "execution_count": 204,
   "metadata": {},
   "outputs": [],
   "source": [
    "import pandas as pd\n",
    "import numpy as np\n",
    "import matplotlib.pyplot as plt\n",
    "import seaborn as sns\n",
    "from sklearn import preprocessing\n",
    "import statsmodels.formula.api as smf"
   ]
  },
  {
   "cell_type": "code",
   "execution_count": 205,
   "metadata": {},
   "outputs": [],
   "source": [
    "ent=pd.read_csv('entries.csv')\n",
    "siteRating=pd.read_csv('tempSiteRatings.csv')\n"
   ]
  },
  {
   "cell_type": "code",
   "execution_count": 206,
   "metadata": {},
   "outputs": [
    {
     "data": {
      "text/plain": [
       "(      id  personId  siteId  rating\n",
       " 261  262        23      18       4\n",
       " 271  272        23      21       7\n",
       " 274  275        23      25       2\n",
       " 280  281        23      26       4\n",
       " 284  285        23      27       1\n",
       " 297  298        23      29       2\n",
       " 306  307        23      36       3\n",
       " 313  314        23      41       6\n",
       " 315  316        23      45       2\n",
       " 319  320        23      47       1\n",
       " 320  321        23      49       2\n",
       " 322  323        23      51       5\n",
       " 325  326        23      52       3\n",
       " 326  327        23      53       2\n",
       " 328  329        23      55       3\n",
       " 331  332        23      56       2\n",
       " 332  333        23      57       3\n",
       " 333  334        23      58       1\n",
       " 334  335        23      59       4\n",
       " 335  336        23      60       3,     id  rateCount    rating\n",
       " 16  18         24  4.875000\n",
       " 19  21         24  6.541667\n",
       " 23  25         24  3.750000\n",
       " 24  26         24  3.916667\n",
       " 25  27         24  4.583333\n",
       " 27  29         24  5.166667\n",
       " 34  36         24  4.125000\n",
       " 39  41         24  5.416667\n",
       " 42  45         23  3.173913\n",
       " 44  47         23  4.608696\n",
       " 46  49         23  4.260870\n",
       " 47  51         23  5.565217\n",
       " 48  52         22  5.227273\n",
       " 49  53         23  3.130435\n",
       " 51  55         23  4.391304\n",
       " 52  56         23  3.826087\n",
       " 53  57         23  5.086957\n",
       " 54  58         23  4.695652\n",
       " 55  59         23  4.086957\n",
       " 56  60         23  4.173913)"
      ]
     },
     "execution_count": 206,
     "metadata": {},
     "output_type": "execute_result"
    }
   ],
   "source": [
    "userRatings=ent[ent.personId==23]\n",
    "siteRatings=siteRating[siteRating.id.isin(userRatings.siteId)]\n",
    "userRatings,siteRatings"
   ]
  },
  {
   "cell_type": "code",
   "execution_count": 207,
   "metadata": {},
   "outputs": [
    {
     "data": {
      "text/html": [
       "<div>\n",
       "<style scoped>\n",
       "    .dataframe tbody tr th:only-of-type {\n",
       "        vertical-align: middle;\n",
       "    }\n",
       "\n",
       "    .dataframe tbody tr th {\n",
       "        vertical-align: top;\n",
       "    }\n",
       "\n",
       "    .dataframe thead th {\n",
       "        text-align: right;\n",
       "    }\n",
       "</style>\n",
       "<table border=\"1\" class=\"dataframe\">\n",
       "  <thead>\n",
       "    <tr style=\"text-align: right;\">\n",
       "      <th></th>\n",
       "      <th>id</th>\n",
       "      <th>rateCount</th>\n",
       "      <th>rating</th>\n",
       "    </tr>\n",
       "  </thead>\n",
       "  <tbody>\n",
       "    <tr>\n",
       "      <th>0</th>\n",
       "      <td>1</td>\n",
       "      <td>24</td>\n",
       "      <td>5.00</td>\n",
       "    </tr>\n",
       "    <tr>\n",
       "      <th>1</th>\n",
       "      <td>3</td>\n",
       "      <td>25</td>\n",
       "      <td>5.00</td>\n",
       "    </tr>\n",
       "    <tr>\n",
       "      <th>2</th>\n",
       "      <td>4</td>\n",
       "      <td>25</td>\n",
       "      <td>3.60</td>\n",
       "    </tr>\n",
       "    <tr>\n",
       "      <th>3</th>\n",
       "      <td>5</td>\n",
       "      <td>25</td>\n",
       "      <td>2.84</td>\n",
       "    </tr>\n",
       "    <tr>\n",
       "      <th>4</th>\n",
       "      <td>6</td>\n",
       "      <td>25</td>\n",
       "      <td>3.52</td>\n",
       "    </tr>\n",
       "  </tbody>\n",
       "</table>\n",
       "</div>"
      ],
      "text/plain": [
       "   id  rateCount  rating\n",
       "0   1         24    5.00\n",
       "1   3         25    5.00\n",
       "2   4         25    3.60\n",
       "3   5         25    2.84\n",
       "4   6         25    3.52"
      ]
     },
     "execution_count": 207,
     "metadata": {},
     "output_type": "execute_result"
    }
   ],
   "source": [
    "siteRating.head()"
   ]
  },
  {
   "cell_type": "code",
   "execution_count": 208,
   "metadata": {},
   "outputs": [
    {
     "data": {
      "text/html": [
       "<div>\n",
       "<style scoped>\n",
       "    .dataframe tbody tr th:only-of-type {\n",
       "        vertical-align: middle;\n",
       "    }\n",
       "\n",
       "    .dataframe tbody tr th {\n",
       "        vertical-align: top;\n",
       "    }\n",
       "\n",
       "    .dataframe thead th {\n",
       "        text-align: right;\n",
       "    }\n",
       "</style>\n",
       "<table border=\"1\" class=\"dataframe\">\n",
       "  <thead>\n",
       "    <tr style=\"text-align: right;\">\n",
       "      <th></th>\n",
       "      <th>id</th>\n",
       "      <th>personId</th>\n",
       "      <th>siteId</th>\n",
       "      <th>rating</th>\n",
       "    </tr>\n",
       "  </thead>\n",
       "  <tbody>\n",
       "    <tr>\n",
       "      <th>0</th>\n",
       "      <td>1</td>\n",
       "      <td>1</td>\n",
       "      <td>1</td>\n",
       "      <td>6</td>\n",
       "    </tr>\n",
       "    <tr>\n",
       "      <th>1</th>\n",
       "      <td>2</td>\n",
       "      <td>1</td>\n",
       "      <td>2</td>\n",
       "      <td>5</td>\n",
       "    </tr>\n",
       "    <tr>\n",
       "      <th>2</th>\n",
       "      <td>3</td>\n",
       "      <td>1</td>\n",
       "      <td>3</td>\n",
       "      <td>4</td>\n",
       "    </tr>\n",
       "    <tr>\n",
       "      <th>3</th>\n",
       "      <td>4</td>\n",
       "      <td>1</td>\n",
       "      <td>4</td>\n",
       "      <td>3</td>\n",
       "    </tr>\n",
       "    <tr>\n",
       "      <th>4</th>\n",
       "      <td>5</td>\n",
       "      <td>1</td>\n",
       "      <td>5</td>\n",
       "      <td>3</td>\n",
       "    </tr>\n",
       "  </tbody>\n",
       "</table>\n",
       "</div>"
      ],
      "text/plain": [
       "   id  personId  siteId  rating\n",
       "0   1         1       1       6\n",
       "1   2         1       2       5\n",
       "2   3         1       3       4\n",
       "3   4         1       4       3\n",
       "4   5         1       5       3"
      ]
     },
     "execution_count": 208,
     "metadata": {},
     "output_type": "execute_result"
    }
   ],
   "source": [
    "ent.head()"
   ]
  },
  {
   "cell_type": "code",
   "execution_count": 209,
   "metadata": {},
   "outputs": [],
   "source": [
    "users=set(ent.personId.values)"
   ]
  },
  {
   "cell_type": "code",
   "execution_count": 210,
   "metadata": {},
   "outputs": [],
   "source": [
    "user=172\n",
    "def getUserRatings(user):\n",
    "    userRatings=ent[ent.personId==user]\n",
    "    siteRatings=siteRating[siteRating.id.isin(userRatings.siteId)]\n",
    "    return userRatings.rating.values,siteRatings.rating.values\n"
   ]
  },
  {
   "cell_type": "code",
   "execution_count": 211,
   "metadata": {},
   "outputs": [],
   "source": [
    "user,site=getUserRatings(user)"
   ]
  },
  {
   "cell_type": "code",
   "execution_count": 212,
   "metadata": {},
   "outputs": [
    {
     "data": {
      "text/plain": [
       "array([4, 5, 5, 3, 2, 5, 3, 3, 6, 7, 7, 4, 2, 2, 1, 3, 5, 4, 6, 6])"
      ]
     },
     "execution_count": 212,
     "metadata": {},
     "output_type": "execute_result"
    }
   ],
   "source": [
    "user"
   ]
  },
  {
   "cell_type": "code",
   "execution_count": 213,
   "metadata": {},
   "outputs": [
    {
     "data": {
      "text/plain": [
       "array([4.86956522, 4.86363636, 4.73913043, 3.91304348, 2.69565217,\n",
       "       4.60869565, 4.56521739, 4.86956522, 6.39130435, 5.86956522,\n",
       "       3.66666667, 3.33333333, 3.41666667, 3.95833333, 5.375     ,\n",
       "       4.5       , 4.95833333, 5.70833333])"
      ]
     },
     "execution_count": 213,
     "metadata": {},
     "output_type": "execute_result"
    }
   ],
   "source": [
    "site"
   ]
  },
  {
   "cell_type": "code",
   "execution_count": 238,
   "metadata": {},
   "outputs": [
    {
     "name": "stdout",
     "output_type": "stream",
     "text": [
      "(8, 2.003889247209006e-05)\n",
      "(23, 0.0005809608097146696)\n",
      "(45, 5.726374198346593e-06)\n",
      "(47, 0.00018656079553706353)\n",
      "(71, 9.60175830575411e-05)\n",
      "(72, 0.000679577972526717)\n",
      "(92, 4.480794111618754e-06)\n"
     ]
    }
   ],
   "source": [
    "from statsmodels.stats.weightstats import ttest_ind\n",
    "P=[]\n",
    "T=[]\n",
    "for i in users:\n",
    "    user,site=getUserRatings(i)\n",
    "    t_value,p_value,_=ttest_ind(user,site)\n",
    "    if t_value>-9999:\n",
    "        T.append(t_value)\n",
    "        P.append(p_value)\n",
    "    #print(abs(t_value),p_value,i)\n",
    "    if p_value<0.001:\n",
    "        print(i,p_value)"
   ]
  },
  {
   "cell_type": "code",
   "execution_count": 239,
   "metadata": {},
   "outputs": [
    {
     "data": {
      "image/png": "[encoded data removed]",
      "text/plain": [
       "<Figure size 1440x864 with 1 Axes>"
      ]
     },
     "metadata": {
      "needs_background": "light"
     },
     "output_type": "display_data"
    }
   ],
   "source": [
    "x=T\n",
    "interval=None\n",
    "num_bins=50\n",
    "fig, ax = plt.subplots(figsize=(20,12))\n",
    "plt.rcParams[\"font.family\"] = \"Times New Roman\"\n",
    "plt.rcParams[\"font.size\"] = 36\n",
    "plt.xlabel(\"T-value\")\n",
    "plt.ylabel(\"Number of samples\")\n",
    "n, bins, patches = plt.hist(x,num_bins, range=interval,facecolor='blue', alpha=0.5)\n",
    "plt.savefig(\"ttestRatings\")\n",
    "plt.show()"
   ]
  },
  {
   "cell_type": "code",
   "execution_count": 226,
   "metadata": {},
   "outputs": [
    {
     "ename": "AttributeError",
     "evalue": "'module' object has no attribute 'stats'",
     "output_type": "error",
     "traceback": [
      "\u001b[1;31m---------------------------------------------------------------------------\u001b[0m",
      "\u001b[1;31mAttributeError\u001b[0m                            Traceback (most recent call last)",
      "\u001b[1;32m<ipython-input-226-7fa5382015e0>\u001b[0m in \u001b[0;36m<module>\u001b[1;34m()\u001b[0m\n\u001b[1;32m----> 1\u001b[1;33m \u001b[0mnp\u001b[0m\u001b[1;33m.\u001b[0m\u001b[0mstats\u001b[0m\u001b[1;33m.\u001b[0m\u001b[0mnorm\u001b[0m\u001b[1;33m(\u001b[0m\u001b[1;33m[\u001b[0m\u001b[1;36m1\u001b[0m\u001b[1;33m,\u001b[0m\u001b[1;36m2\u001b[0m\u001b[1;33m,\u001b[0m\u001b[1;36m3\u001b[0m\u001b[1;33m]\u001b[0m\u001b[1;33m)\u001b[0m\u001b[1;33m\u001b[0m\u001b[0m\n\u001b[0m",
      "\u001b[1;31mAttributeError\u001b[0m: 'module' object has no attribute 'stats'"
     ]
    }
   ],
   "source": [
    "np.stats.norm([1,2,3])"
   ]
  },
  {
   "cell_type": "code",
   "execution_count": 228,
   "metadata": {},
   "outputs": [
    {
     "data": {
      "text/plain": [
       "20.071835245167193"
      ]
     },
     "execution_count": 228,
     "metadata": {},
     "output_type": "execute_result"
    }
   ],
   "source": [
    "np.linalg.norm(np.array(T))\n"
   ]
  },
  {
   "cell_type": "code",
   "execution_count": null,
   "metadata": {},
   "outputs": [],
   "source": []
  },
  {
   "cell_type": "code",
   "execution_count": null,
   "metadata": {},
   "outputs": [],
   "source": []
  }
 ],
 "metadata": {
  "kernelspec": {
   "display_name": "Python 3",
   "language": "python",
   "name": "python3"
  },
  "language_info": {
   "codemirror_mode": {
    "name": "ipython",
    "version": 2
   },
   "file_extension": ".py",
   "mimetype": "text/x-python",
   "name": "python",
   "nbconvert_exporter": "python",
   "pygments_lexer": "ipython2",
   "version": "2.7.16"
  }
 },
 "nbformat": 4,
 "nbformat_minor": 2
}
