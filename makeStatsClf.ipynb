{
 "cells": [
  {
   "cell_type": "code",
   "execution_count": 159,
   "metadata": {},
   "outputs": [],
   "source": [
    "import pandas as pd\n",
    "import numpy as np\n",
    "import matplotlib.pyplot as plt\n",
    "import seaborn as sns\n",
    "from sklearn import preprocessing\n",
    "import statsmodels.discrete.discrete_model as sm\n",
    "import statsmodels.formula.api as smf"
   ]
  },
  {
   "cell_type": "code",
   "execution_count": 160,
   "metadata": {},
   "outputs": [],
   "source": [
    "dfr=pd.read_csv('tempSiteRatings.csv')\n",
    "dfd=pd.read_csv('tempUrlMetrics.csv')"
   ]
  },
  {
   "cell_type": "code",
   "execution_count": 161,
   "metadata": {},
   "outputs": [],
   "source": [
    "#print(dfd['slno'].values==dfr['id'].values)\n",
    "dfd['rating']=dfr['rating']\n",
    "dfd.to_csv('dataClf.csv')"
   ]
  },
  {
   "cell_type": "code",
   "execution_count": 162,
   "metadata": {},
   "outputs": [],
   "source": [
    "def changeColName(data):\n",
    "    try:\n",
    "        columns=['word_count','body_text_percent','emphasized_text_percent','text_position_changes','text_cluster_count','link_count','page_size','graphic_percent','graphic_count','colour_count','font_count','colourfulness','visual_complexity','rating']\n",
    "        data.columns=columns\n",
    "    except:\n",
    "        columns=['word_count','body_text_percent','emphasized_text_percent','text_position_changes','text_cluster_count','link_count','page_size','graphic_percent','graphic_count','colour_count','font_count','colourfulness','visual_complexity']\n",
    "        data.columns=columns\n",
    "    return data"
   ]
  },
  {
   "cell_type": "code",
   "execution_count": 163,
   "metadata": {},
   "outputs": [],
   "source": [
    "def dropMetrics(data):\n",
    "    try:\n",
    "        data.drop(['id','url'],1, inplace=True)#,'p1','p2','p4','p6','p7','p10','p11','p12','p13'\n",
    "    except:\n",
    "        data.drop(['slno','url'],1, inplace=True)\n",
    "    return data"
   ]
  },
  {
   "cell_type": "code",
   "execution_count": 164,
   "metadata": {},
   "outputs": [],
   "source": [
    "def stdNormal(data,mean,std):\n",
    "    x = data.values #returns a numpy array\n",
    "    columns=data.columns\n",
    "    x_scaled=(x-mean)/std\n",
    "    data=pd.DataFrame(x_scaled,columns=columns)\n",
    "    return data"
   ]
  },
  {
   "cell_type": "code",
   "execution_count": 165,
   "metadata": {},
   "outputs": [],
   "source": [
    "def catCol(data,col):\n",
    "    data[col+'_high']=np.zeros(data[col].shape)\n",
    "    data[col+'_avg']=np.ones(data[col].shape)\n",
    "    data[col+'_low']=np.zeros(data[col].shape)\n",
    "\n",
    "    data[col+'_high'][np.where(data[col]>.431)[0]]=1.0\n",
    "    data[col+'_avg'][np.where(data[col]>.431)[0]]=0.0\n",
    "    data[col+'_avg'][np.where(data[col]<-.431)[0]]=0.0\n",
    "    data[col+'_low'][np.where(data[col]<-.431)[0]]=1.0\n",
    "    data.drop([col],1,inplace=True)\n",
    "    return data"
   ]
  },
  {
   "cell_type": "code",
   "execution_count": 166,
   "metadata": {},
   "outputs": [],
   "source": [
    "def catColPdf(data,col):\n",
    "    import scipy.stats\n",
    "    \n",
    "    mean_high=np.mean(data[col][np.where(data[col]>.431)[0]])\n",
    "    std_high=np.std(data[col][np.where(data[col]>.431)[0]])\n",
    "\n",
    "\n",
    "    mean_avg=np.mean(data[col][np.where(abs(data[col])<.431)[0]])\n",
    "    std_avg=np.std(data[col][np.where(abs(data[col])<.431)[0]])\n",
    "\n",
    "    mean_low=np.mean(data[col][np.where(data[col]<-.431)[0]])\n",
    "    std_low=np.std(data[col][np.where(data[col]<-.431)[0]])\n",
    "\n",
    "    data[col+'_high']=scipy.stats.norm(mean_high,std_high).pdf(data[col].values)\n",
    "    data[col+'_avg']=scipy.stats.norm(mean_avg,std_avg).pdf(data[col].values)\n",
    "    data[col+'_low']=scipy.stats.norm(mean_low,std_low).pdf(data[col].values)\n",
    "    \n",
    "    data.drop([col],1,inplace=True)\n",
    "    \n",
    "    return data\n"
   ]
  },
  {
   "cell_type": "code",
   "execution_count": 167,
   "metadata": {},
   "outputs": [],
   "source": [
    "def preProcess(data,mean,std):\n",
    "    try:\n",
    "        rating=data['rating']\n",
    "        data.drop(['rating'],1,inplace=True)\n",
    "    except:\n",
    "        pass\n",
    "    data=stdNormal(data,mean,std)\n",
    "    #data=catCol(data,'word_count')\n",
    "    #data=catCol(data,'page_size') \n",
    "    #data=catCol(data,'colourfulness') \n",
    "    #data=catCol(data,'visual_complexity') \n",
    "    try:\n",
    "        data['rating']=rating\n",
    "    except:\n",
    "        pass\n",
    "    return data"
   ]
  },
  {
   "cell_type": "code",
   "execution_count": 168,
   "metadata": {},
   "outputs": [
    {
     "name": "stderr",
     "output_type": "stream",
     "text": [
      "/home/abhiavk/anaconda3/lib/python3.6/site-packages/ipykernel_launcher.py:10: SettingWithCopyWarning: \n",
      "A value is trying to be set on a copy of a slice from a DataFrame\n",
      "\n",
      "See the caveats in the documentation: http://pandas.pydata.org/pandas-docs/stable/indexing.html#indexing-view-versus-copy\n",
      "  # Remove the CWD from sys.path while we load stuff.\n",
      "/home/abhiavk/anaconda3/lib/python3.6/site-packages/ipykernel_launcher.py:11: SettingWithCopyWarning: \n",
      "A value is trying to be set on a copy of a slice from a DataFrame\n",
      "\n",
      "See the caveats in the documentation: http://pandas.pydata.org/pandas-docs/stable/indexing.html#indexing-view-versus-copy\n",
      "  # This is added back by InteractiveShellApp.init_path()\n"
     ]
    }
   ],
   "source": [
    "dataClf=pd.read_csv('dataClf.csv')\n",
    "dataClf.drop(['Unnamed: 0'],1, inplace=True)\n",
    "dataClf=dropMetrics(dataClf)\n",
    "dataClf=changeColName(dataClf)\n",
    "\n",
    "goodInd=np.argpartition(dataClf['rating'].values,-25)[-25:]\n",
    "badInd=np.argpartition(dataClf['rating'].values,25)[:25]\n",
    "allInd=np.concatenate((goodInd,badInd),axis=0)\n",
    "\n",
    "dataClf['rating'][badInd]=0\n",
    "dataClf['rating'][goodInd]=1\n",
    "data=pd.DataFrame(dataClf[dataClf.columns].values[allInd],columns=dataClf.columns)\n"
   ]
  },
  {
   "cell_type": "code",
   "execution_count": 169,
   "metadata": {},
   "outputs": [],
   "source": [
    "irrCol=['emphasized_text_percent','font_count']\n",
    "data.drop(irrCol,1,inplace=True)\n",
    "mean=np.mean(data.values[:,:-1].astype(float),axis=0)\n",
    "std=np.std(data.values[:,:-1].astype(float),axis=0)\n"
   ]
  },
  {
   "cell_type": "code",
   "execution_count": 170,
   "metadata": {},
   "outputs": [],
   "source": [
    "data=preProcess(data,mean,std)"
   ]
  },
  {
   "cell_type": "code",
   "execution_count": 171,
   "metadata": {},
   "outputs": [
    {
     "data": {
      "text/plain": [
       "array([1. , 1. , 1. , 1. , 1. , 1. , 1. , 1. , 1. , 1. , 1. , 0.5])"
      ]
     },
     "execution_count": 171,
     "metadata": {},
     "output_type": "execute_result"
    }
   ],
   "source": [
    "np.std(data.values.astype(float),axis=0)"
   ]
  },
  {
   "cell_type": "code",
   "execution_count": 172,
   "metadata": {},
   "outputs": [],
   "source": [
    "correlation = data.corr(method='pearson')\n",
    "columns = correlation.nlargest(30,'rating').index\n",
    "columns=columns.tolist()\n",
    "columns.sort()\n",
    "columns=pd.Index(columns)"
   ]
  },
  {
   "cell_type": "code",
   "execution_count": 173,
   "metadata": {},
   "outputs": [],
   "source": [
    "Y=data['rating'].values\n",
    "X_temp=data[columns]\n",
    "X_temp.drop(['rating'],1, inplace=True)\n",
    "X=X_temp.values\n",
    "columns=columns.drop('rating')"
   ]
  },
  {
   "cell_type": "code",
   "execution_count": 174,
   "metadata": {},
   "outputs": [],
   "source": [
    "from sklearn.model_selection import train_test_split\n",
    "X_train, X_test, Y_train, Y_test = train_test_split(X, Y, shuffle=True,test_size=0.25, random_state=1)"
   ]
  },
  {
   "cell_type": "code",
   "execution_count": 175,
   "metadata": {},
   "outputs": [
    {
     "data": {
      "text/plain": [
       "Index(['body_text_percent', 'colour_count', 'colourfulness', 'graphic_count',\n",
       "       'graphic_percent', 'link_count', 'page_size', 'text_cluster_count',\n",
       "       'text_position_changes', 'visual_complexity', 'word_count'],\n",
       "      dtype='object')"
      ]
     },
     "execution_count": 175,
     "metadata": {},
     "output_type": "execute_result"
    }
   ],
   "source": [
    "columns"
   ]
  },
  {
   "cell_type": "code",
   "execution_count": 176,
   "metadata": {},
   "outputs": [
    {
     "data": {
      "text/plain": [
       "'rating ~ body_text_percent + colour_count + colourfulness + graphic_count + graphic_percent + link_count + page_size + text_cluster_count + text_position_changes + visual_complexity + word_count'"
      ]
     },
     "execution_count": 176,
     "metadata": {},
     "output_type": "execute_result"
    }
   ],
   "source": [
    "col='rating ~ '\n",
    "for i in columns:\n",
    "    col+=i+' + '\n",
    "col=col[:-3]\n",
    "col"
   ]
  },
  {
   "cell_type": "code",
   "execution_count": 177,
   "metadata": {},
   "outputs": [
    {
     "name": "stdout",
     "output_type": "stream",
     "text": [
      "Optimization terminated successfully.\n",
      "         Current function value: 0.444651\n",
      "         Iterations 7\n"
     ]
    }
   ],
   "source": [
    "clf=sm.Logit(Y,X).fit()"
   ]
  },
  {
   "cell_type": "code",
   "execution_count": 178,
   "metadata": {},
   "outputs": [
    {
     "name": "stdout",
     "output_type": "stream",
     "text": [
      "Optimization terminated successfully.\n",
      "         Current function value: 0.434496\n",
      "         Iterations 8\n"
     ]
    }
   ],
   "source": [
    "clf=smf.logit(col,data=data).fit(maxiter=35000)"
   ]
  },
  {
   "cell_type": "code",
   "execution_count": 179,
   "metadata": {},
   "outputs": [
    {
     "data": {
      "text/html": [
       "<table class=\"simpletable\">\n",
       "<caption>Logit Regression Results</caption>\n",
       "<tr>\n",
       "  <th>Dep. Variable:</th>      <td>rating</td>      <th>  No. Observations:  </th>  <td>    50</td> \n",
       "</tr>\n",
       "<tr>\n",
       "  <th>Model:</th>               <td>Logit</td>      <th>  Df Residuals:      </th>  <td>    38</td> \n",
       "</tr>\n",
       "<tr>\n",
       "  <th>Method:</th>               <td>MLE</td>       <th>  Df Model:          </th>  <td>    11</td> \n",
       "</tr>\n",
       "<tr>\n",
       "  <th>Date:</th>          <td>Tue, 18 Jun 2019</td> <th>  Pseudo R-squ.:     </th>  <td>0.3732</td> \n",
       "</tr>\n",
       "<tr>\n",
       "  <th>Time:</th>              <td>09:28:56</td>     <th>  Log-Likelihood:    </th> <td> -21.725</td>\n",
       "</tr>\n",
       "<tr>\n",
       "  <th>converged:</th>           <td>True</td>       <th>  LL-Null:           </th> <td> -34.657</td>\n",
       "</tr>\n",
       "<tr>\n",
       "  <th> </th>                      <td> </td>        <th>  LLR p-value:       </th> <td>0.006797</td>\n",
       "</tr>\n",
       "</table>\n",
       "<table class=\"simpletable\">\n",
       "<tr>\n",
       "            <td></td>               <th>coef</th>     <th>std err</th>      <th>z</th>      <th>P>|z|</th>  <th>[0.025</th>    <th>0.975]</th>  \n",
       "</tr>\n",
       "<tr>\n",
       "  <th>Intercept</th>             <td>   -0.4853</td> <td>    0.502</td> <td>   -0.967</td> <td> 0.334</td> <td>   -1.469</td> <td>    0.498</td>\n",
       "</tr>\n",
       "<tr>\n",
       "  <th>body_text_percent</th>     <td>    0.0170</td> <td>    0.389</td> <td>    0.044</td> <td> 0.965</td> <td>   -0.746</td> <td>    0.780</td>\n",
       "</tr>\n",
       "<tr>\n",
       "  <th>colour_count</th>          <td>   -0.5036</td> <td>    0.555</td> <td>   -0.907</td> <td> 0.364</td> <td>   -1.592</td> <td>    0.585</td>\n",
       "</tr>\n",
       "<tr>\n",
       "  <th>colourfulness</th>         <td>   -0.2538</td> <td>    0.411</td> <td>   -0.618</td> <td> 0.536</td> <td>   -1.058</td> <td>    0.551</td>\n",
       "</tr>\n",
       "<tr>\n",
       "  <th>graphic_count</th>         <td>    2.1292</td> <td>    0.758</td> <td>    2.808</td> <td> 0.005</td> <td>    0.643</td> <td>    3.616</td>\n",
       "</tr>\n",
       "<tr>\n",
       "  <th>graphic_percent</th>       <td>    0.1102</td> <td>    0.417</td> <td>    0.264</td> <td> 0.792</td> <td>   -0.707</td> <td>    0.928</td>\n",
       "</tr>\n",
       "<tr>\n",
       "  <th>link_count</th>            <td>    2.0501</td> <td>    1.632</td> <td>    1.256</td> <td> 0.209</td> <td>   -1.149</td> <td>    5.249</td>\n",
       "</tr>\n",
       "<tr>\n",
       "  <th>page_size</th>             <td>   -0.1026</td> <td>    0.313</td> <td>   -0.328</td> <td> 0.743</td> <td>   -0.716</td> <td>    0.511</td>\n",
       "</tr>\n",
       "<tr>\n",
       "  <th>text_cluster_count</th>    <td>   -0.5937</td> <td>    0.512</td> <td>   -1.161</td> <td> 0.246</td> <td>   -1.596</td> <td>    0.409</td>\n",
       "</tr>\n",
       "<tr>\n",
       "  <th>text_position_changes</th> <td>   -1.4228</td> <td>    0.884</td> <td>   -1.609</td> <td> 0.108</td> <td>   -3.156</td> <td>    0.310</td>\n",
       "</tr>\n",
       "<tr>\n",
       "  <th>visual_complexity</th>     <td>    0.1998</td> <td>    0.567</td> <td>    0.352</td> <td> 0.725</td> <td>   -0.912</td> <td>    1.312</td>\n",
       "</tr>\n",
       "<tr>\n",
       "  <th>word_count</th>            <td>   -3.9405</td> <td>    1.701</td> <td>   -2.317</td> <td> 0.021</td> <td>   -7.274</td> <td>   -0.607</td>\n",
       "</tr>\n",
       "</table>"
      ],
      "text/plain": [
       "<class 'statsmodels.iolib.summary.Summary'>\n",
       "\"\"\"\n",
       "                           Logit Regression Results                           \n",
       "==============================================================================\n",
       "Dep. Variable:                 rating   No. Observations:                   50\n",
       "Model:                          Logit   Df Residuals:                       38\n",
       "Method:                           MLE   Df Model:                           11\n",
       "Date:                Tue, 18 Jun 2019   Pseudo R-squ.:                  0.3732\n",
       "Time:                        09:28:56   Log-Likelihood:                -21.725\n",
       "converged:                       True   LL-Null:                       -34.657\n",
       "                                        LLR p-value:                  0.006797\n",
       "=========================================================================================\n",
       "                            coef    std err          z      P>|z|      [0.025      0.975]\n",
       "-----------------------------------------------------------------------------------------\n",
       "Intercept                -0.4853      0.502     -0.967      0.334      -1.469       0.498\n",
       "body_text_percent         0.0170      0.389      0.044      0.965      -0.746       0.780\n",
       "colour_count             -0.5036      0.555     -0.907      0.364      -1.592       0.585\n",
       "colourfulness            -0.2538      0.411     -0.618      0.536      -1.058       0.551\n",
       "graphic_count             2.1292      0.758      2.808      0.005       0.643       3.616\n",
       "graphic_percent           0.1102      0.417      0.264      0.792      -0.707       0.928\n",
       "link_count                2.0501      1.632      1.256      0.209      -1.149       5.249\n",
       "page_size                -0.1026      0.313     -0.328      0.743      -0.716       0.511\n",
       "text_cluster_count       -0.5937      0.512     -1.161      0.246      -1.596       0.409\n",
       "text_position_changes    -1.4228      0.884     -1.609      0.108      -3.156       0.310\n",
       "visual_complexity         0.1998      0.567      0.352      0.725      -0.912       1.312\n",
       "word_count               -3.9405      1.701     -2.317      0.021      -7.274      -0.607\n",
       "=========================================================================================\n",
       "\"\"\""
      ]
     },
     "execution_count": 179,
     "metadata": {},
     "output_type": "execute_result"
    }
   ],
   "source": [
    "clf.summary()"
   ]
  },
  {
   "cell_type": "code",
   "execution_count": 180,
   "metadata": {},
   "outputs": [
    {
     "data": {
      "text/plain": [
       "Index(['body_text_percent', 'colour_count', 'colourfulness', 'graphic_count',\n",
       "       'graphic_percent', 'link_count', 'page_size', 'text_cluster_count',\n",
       "       'text_position_changes', 'visual_complexity', 'word_count'],\n",
       "      dtype='object')"
      ]
     },
     "execution_count": 180,
     "metadata": {},
     "output_type": "execute_result"
    }
   ],
   "source": [
    "columns"
   ]
  },
  {
   "cell_type": "code",
   "execution_count": 181,
   "metadata": {},
   "outputs": [
    {
     "data": {
      "text/plain": [
       "'\\\\Intercept&-0.4853&0.502&-0.967&0.334&-1.469&0.498\\\\body_text_percent&0.0170&0.389&0.044&0.965&-0.746&0.780\\\\colour_count&-0.5036&0.555&-0.907&0.364&-1.592&0.585\\\\colourfulness&-0.2538&0.411&-0.618&0.536&-1.058&0.551\\\\graphic_count&2.1292&0.758&2.808&0.005&0.643&3.616\\\\graphic_percent&0.1102&0.417&0.264&0.792&-0.707&0.928\\\\link_count&2.0501&1.632&1.256&0.209&-1.149&5.249\\\\page_size&-0.1026&0.313&-0.328&0.743&-0.716&0.511\\\\text_cluster_count&-0.5937&0.512&-1.161&0.246&-1.596&0.409\\\\text_position_changes&-1.4228&0.884&-1.609&0.108&-3.156&0.310\\\\visual_complexity&0.1998&0.567&0.352&0.725&-0.912&1.312\\\\word_count&-3.9405&1.701&-2.317&0.021&-7.274&-0.607\\\\'"
      ]
     },
     "execution_count": 181,
     "metadata": {},
     "output_type": "execute_result"
    }
   ],
   "source": [
    "text=\"\"\"\n",
    "Intercept\t-0.4853\t0.502\t-0.967\t0.334\t-1.469\t0.498\n",
    "body_text_percent\t0.0170\t0.389\t0.044\t0.965\t-0.746\t0.780\n",
    "colour_count\t-0.5036\t0.555\t-0.907\t0.364\t-1.592\t0.585\n",
    "colourfulness\t-0.2538\t0.411\t-0.618\t0.536\t-1.058\t0.551\n",
    "graphic_count\t2.1292\t0.758\t2.808\t0.005\t0.643\t3.616\n",
    "graphic_percent\t0.1102\t0.417\t0.264\t0.792\t-0.707\t0.928\n",
    "link_count\t2.0501\t1.632\t1.256\t0.209\t-1.149\t5.249\n",
    "page_size\t-0.1026\t0.313\t-0.328\t0.743\t-0.716\t0.511\n",
    "text_cluster_count\t-0.5937\t0.512\t-1.161\t0.246\t-1.596\t0.409\n",
    "text_position_changes\t-1.4228\t0.884\t-1.609\t0.108\t-3.156\t0.310\n",
    "visual_complexity\t0.1998\t0.567\t0.352\t0.725\t-0.912\t1.312\n",
    "word_count\t-3.9405\t1.701\t-2.317\t0.021\t-7.274\t-0.607\n",
    "\"\"\"\n",
    "import re\n",
    "text=re.sub('\\t','&',text)\n",
    "text=re.sub('\\n','\\\\\\\\',text)\n",
    "text"
   ]
  },
  {
   "cell_type": "code",
   "execution_count": null,
   "metadata": {},
   "outputs": [],
   "source": []
  }
 ],
 "metadata": {
  "kernelspec": {
   "display_name": "Python 3",
   "language": "python",
   "name": "python3"
  },
  "language_info": {
   "codemirror_mode": {
    "name": "ipython",
    "version": 3
   },
   "file_extension": ".py",
   "mimetype": "text/x-python",
   "name": "python",
   "nbconvert_exporter": "python",
   "pygments_lexer": "ipython3",
   "version": "3.6.8"
  }
 },
 "nbformat": 4,
 "nbformat_minor": 2
}
