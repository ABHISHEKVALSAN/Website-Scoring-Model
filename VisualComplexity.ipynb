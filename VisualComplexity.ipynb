{
 "cells": [
  {
   "cell_type": "code",
   "execution_count": 8,
   "metadata": {},
   "outputs": [],
   "source": [
    "import cv2\n",
    "import datetime\n",
    "import numpy as np\n",
    "import cv2\n",
    "import sys\n",
    "\n",
    "gridCount=1\n",
    "rois=[]\n",
    "\n",
    "imageGrey=cv2.imread('/home/abhiavk/sample3.png',0)"
   ]
  },
  {
   "cell_type": "code",
   "execution_count": 9,
   "metadata": {},
   "outputs": [],
   "source": [
    "def getVisualComplexity(image):\n",
    "    global gridCount\n",
    "    global rois\n",
    "    gridCount=1\n",
    "    rois=[]\n",
    "    offX, offY=0,0\n",
    "    startTime=datetime.datetime.now()\n",
    "    minDev        = 10.0\n",
    "    minSz         = 20\n",
    "    cv2.imshow('Start Image',image)\n",
    "    h,w = image.shape[0], image.shape[1]\n",
    "    m,s = cv2.meanStdDev(image)\n",
    "    imageIn=image\n",
    "    qt(imageIn,minDev,minSz,offX,offY)\n",
    "    imgOut=image\n",
    "    for e in rois:\n",
    "        col=255\n",
    "        if e[5]<minDev:\n",
    "            col=0\n",
    "        cv2.rectangle(imgOut, (e[0],e[1]), (e[0]+e[2],e[1]+e[3]), col, 1)\n",
    "\n",
    "    cv2.imshow('Quad Image',imgOut)\n",
    "    cv2.imwrite('/home/abhiavk/sampleQuad.png',imgOut)\n",
    "    cv2.waitKey(0)\n",
    "    cv2.destroyAllWindows()\n",
    "    print(gridCount)\n",
    "    timeTaken(startTime,\"Visual Complexity\")\n",
    "    return gridCount"
   ]
  },
  {
   "cell_type": "code",
   "execution_count": 10,
   "metadata": {},
   "outputs": [],
   "source": [
    "def timeTaken(startTime, Metric):\n",
    "\tprint(Metric.ljust(25,\" \"),datetime.datetime.now()-startTime)"
   ]
  },
  {
   "cell_type": "code",
   "execution_count": 11,
   "metadata": {},
   "outputs": [],
   "source": [
    "def splitImage(inImg):\n",
    "    h,w = inImg.shape[0], inImg.shape[1]\n",
    "    off1X=0\n",
    "    off1Y=0\n",
    "    off2X=0\n",
    "    off2Y=0\n",
    "    if w >= h:  #split X\n",
    "        off1X=0\n",
    "        off2X=int(w/2)\n",
    "        img1 = inImg[0:h, 0:off2X]\n",
    "        img2 = inImg[0:h, off2X:w]\n",
    "    else:       #split Y\n",
    "        off1Y=0\n",
    "        off2Y=int(h/2)\n",
    "        img1 = inImg[0:off2Y, 0:w]\n",
    "        img2 = inImg[off2Y:h, 0:w]\n",
    "    return off1X,off1Y,img1, off2X,off2Y,img2"
   ]
  },
  {
   "cell_type": "code",
   "execution_count": 12,
   "metadata": {},
   "outputs": [],
   "source": [
    "def qt(inImg, minStd, minSize, offX, offY):\n",
    "    global gridCount\n",
    "    global rois\n",
    "    h,w = inImg.shape[0], inImg.shape[1]\n",
    "    m,s = cv2.meanStdDev(inImg)\n",
    "    if s>=minStd and max(h,w)>minSize:\n",
    "        oX1,oY1,im1, oX2,oY2,im2 = splitImage(inImg)\n",
    "        gridCount+=1\n",
    "        qt(im1, minStd, minSize, offX+oX1, offY+oY1)\n",
    "        qt(im2, minStd, minSize, offX+oX2, offY+oY2)\n",
    "    else:\n",
    "        rois.append([offX,offY,w,h,m,s])"
   ]
  },
  {
   "cell_type": "code",
   "execution_count": 13,
   "metadata": {},
   "outputs": [
    {
     "name": "stdout",
     "output_type": "stream",
     "text": [
      "858\n",
      "Visual Complexity         0:00:00.041363\n"
     ]
    },
    {
     "data": {
      "text/plain": [
       "858"
      ]
     },
     "execution_count": 13,
     "metadata": {},
     "output_type": "execute_result"
    }
   ],
   "source": [
    "getVisualComplexity(imageGrey)"
   ]
  },
  {
   "cell_type": "code",
   "execution_count": null,
   "metadata": {},
   "outputs": [],
   "source": []
  },
  {
   "cell_type": "code",
   "execution_count": null,
   "metadata": {},
   "outputs": [],
   "source": []
  }
 ],
 "metadata": {
  "kernelspec": {
   "display_name": "Python 3",
   "language": "python",
   "name": "python3"
  },
  "language_info": {
   "codemirror_mode": {
    "name": "ipython",
    "version": 3
   },
   "file_extension": ".py",
   "mimetype": "text/x-python",
   "name": "python",
   "nbconvert_exporter": "python",
   "pygments_lexer": "ipython3",
   "version": "3.6.1"
  }
 },
 "nbformat": 4,
 "nbformat_minor": 2
}
