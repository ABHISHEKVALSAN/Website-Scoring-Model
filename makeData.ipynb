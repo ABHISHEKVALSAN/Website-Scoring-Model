{
 "cells": [
  {
   "cell_type": "code",
   "execution_count": 889,
   "metadata": {},
   "outputs": [],
   "source": [
    "import pandas as pd\n",
    "import numpy as np\n",
    "import matplotlib.pyplot as plt\n",
    "import seaborn as sns\n",
    "import xgboost as xgb\n",
    "from sklearn import preprocessing\n"
   ]
  },
  {
   "cell_type": "code",
   "execution_count": 890,
   "metadata": {},
   "outputs": [],
   "source": [
    "dfr=pd.read_csv('tempSiteRatings.csv')\n",
    "dfd=pd.read_csv('tempUrlMetrics.csv')"
   ]
  },
  {
   "cell_type": "code",
   "execution_count": 891,
   "metadata": {},
   "outputs": [],
   "source": [
    "dfd['rating']=dfr['rating']\n",
    "dfd.to_csv('data.csv')"
   ]
  },
  {
   "cell_type": "code",
   "execution_count": 892,
   "metadata": {},
   "outputs": [],
   "source": [
    "data=pd.read_csv('data.csv')\n",
    "#data"
   ]
  },
  {
   "cell_type": "code",
   "execution_count": 893,
   "metadata": {},
   "outputs": [],
   "source": [
    "data.drop(['Unnamed: 0'],1, inplace=True)\n",
    "def dropMetrics(data):\n",
    "    data.drop(['slno','url','p1','p2','p4','p6','p7','p10','p11','p12','p13'],1, inplace=True)\n",
    "    return data"
   ]
  },
  {
   "cell_type": "code",
   "execution_count": 894,
   "metadata": {},
   "outputs": [],
   "source": [
    "def transDF(data):\n",
    "    x = data.values #returns a numpy array\n",
    "    columns=data.columns\n",
    "    scaler = preprocessing.StandardScaler()\n",
    "    x_scaled = scaler.fit_transform(x)\n",
    "    data=pd.DataFrame(x_scaled,columns=columns)\n",
    "    return data"
   ]
  },
  {
   "cell_type": "code",
   "execution_count": 895,
   "metadata": {},
   "outputs": [
    {
     "data": {
      "text/html": [
       "<div>\n",
       "<style scoped>\n",
       "    .dataframe tbody tr th:only-of-type {\n",
       "        vertical-align: middle;\n",
       "    }\n",
       "\n",
       "    .dataframe tbody tr th {\n",
       "        vertical-align: top;\n",
       "    }\n",
       "\n",
       "    .dataframe thead th {\n",
       "        text-align: right;\n",
       "    }\n",
       "</style>\n",
       "<table border=\"1\" class=\"dataframe\">\n",
       "  <thead>\n",
       "    <tr style=\"text-align: right;\">\n",
       "      <th></th>\n",
       "      <th>p3</th>\n",
       "      <th>p5</th>\n",
       "      <th>p8</th>\n",
       "      <th>p9</th>\n",
       "      <th>p13</th>\n",
       "      <th>rating</th>\n",
       "    </tr>\n",
       "  </thead>\n",
       "  <tbody>\n",
       "    <tr>\n",
       "      <th>0</th>\n",
       "      <td>-0.036745</td>\n",
       "      <td>-0.548604</td>\n",
       "      <td>0.326713</td>\n",
       "      <td>-0.812482</td>\n",
       "      <td>-0.966262</td>\n",
       "      <td>4.920000</td>\n",
       "    </tr>\n",
       "    <tr>\n",
       "      <th>1</th>\n",
       "      <td>-0.611304</td>\n",
       "      <td>0.381592</td>\n",
       "      <td>0.729960</td>\n",
       "      <td>0.286160</td>\n",
       "      <td>1.417207</td>\n",
       "      <td>5.000000</td>\n",
       "    </tr>\n",
       "    <tr>\n",
       "      <th>2</th>\n",
       "      <td>7.164690</td>\n",
       "      <td>0.838531</td>\n",
       "      <td>1.019429</td>\n",
       "      <td>-0.103681</td>\n",
       "      <td>2.712409</td>\n",
       "      <td>3.600000</td>\n",
       "    </tr>\n",
       "    <tr>\n",
       "      <th>3</th>\n",
       "      <td>-0.856765</td>\n",
       "      <td>1.001723</td>\n",
       "      <td>-0.728357</td>\n",
       "      <td>-0.788855</td>\n",
       "      <td>0.848130</td>\n",
       "      <td>2.840000</td>\n",
       "    </tr>\n",
       "    <tr>\n",
       "      <th>4</th>\n",
       "      <td>-0.630360</td>\n",
       "      <td>0.495827</td>\n",
       "      <td>-0.616105</td>\n",
       "      <td>0.061706</td>\n",
       "      <td>-0.118191</td>\n",
       "      <td>3.520000</td>\n",
       "    </tr>\n",
       "    <tr>\n",
       "      <th>5</th>\n",
       "      <td>-0.264509</td>\n",
       "      <td>-0.303816</td>\n",
       "      <td>1.062106</td>\n",
       "      <td>-0.623468</td>\n",
       "      <td>0.336331</td>\n",
       "      <td>4.160000</td>\n",
       "    </tr>\n",
       "    <tr>\n",
       "      <th>6</th>\n",
       "      <td>-0.553069</td>\n",
       "      <td>-0.369093</td>\n",
       "      <td>0.835051</td>\n",
       "      <td>-0.375388</td>\n",
       "      <td>0.622717</td>\n",
       "      <td>4.440000</td>\n",
       "    </tr>\n",
       "    <tr>\n",
       "      <th>7</th>\n",
       "      <td>-0.787654</td>\n",
       "      <td>0.055208</td>\n",
       "      <td>0.614730</td>\n",
       "      <td>-0.706162</td>\n",
       "      <td>-0.981043</td>\n",
       "      <td>4.880000</td>\n",
       "    </tr>\n",
       "    <tr>\n",
       "      <th>8</th>\n",
       "      <td>-0.726581</td>\n",
       "      <td>0.446869</td>\n",
       "      <td>0.486790</td>\n",
       "      <td>7.527744</td>\n",
       "      <td>-0.910833</td>\n",
       "      <td>5.120000</td>\n",
       "    </tr>\n",
       "    <tr>\n",
       "      <th>9</th>\n",
       "      <td>1.255721</td>\n",
       "      <td>-0.646520</td>\n",
       "      <td>-1.376622</td>\n",
       "      <td>-0.469895</td>\n",
       "      <td>-0.554236</td>\n",
       "      <td>5.480000</td>\n",
       "    </tr>\n",
       "    <tr>\n",
       "      <th>10</th>\n",
       "      <td>0.801490</td>\n",
       "      <td>-0.564923</td>\n",
       "      <td>1.029401</td>\n",
       "      <td>-0.765229</td>\n",
       "      <td>-0.860946</td>\n",
       "      <td>5.000000</td>\n",
       "    </tr>\n",
       "    <tr>\n",
       "      <th>11</th>\n",
       "      <td>-0.287645</td>\n",
       "      <td>3.873909</td>\n",
       "      <td>0.034602</td>\n",
       "      <td>0.498800</td>\n",
       "      <td>0.713252</td>\n",
       "      <td>3.583333</td>\n",
       "    </tr>\n",
       "    <tr>\n",
       "      <th>12</th>\n",
       "      <td>-0.496339</td>\n",
       "      <td>-0.581243</td>\n",
       "      <td>0.976880</td>\n",
       "      <td>-0.989682</td>\n",
       "      <td>-0.622599</td>\n",
       "      <td>2.750000</td>\n",
       "    </tr>\n",
       "    <tr>\n",
       "      <th>13</th>\n",
       "      <td>-0.546600</td>\n",
       "      <td>-0.450689</td>\n",
       "      <td>0.121053</td>\n",
       "      <td>0.699627</td>\n",
       "      <td>-1.204609</td>\n",
       "      <td>4.083333</td>\n",
       "    </tr>\n",
       "    <tr>\n",
       "      <th>14</th>\n",
       "      <td>0.193719</td>\n",
       "      <td>-0.385412</td>\n",
       "      <td>1.071527</td>\n",
       "      <td>-0.517148</td>\n",
       "      <td>0.016688</td>\n",
       "      <td>3.875000</td>\n",
       "    </tr>\n",
       "    <tr>\n",
       "      <th>15</th>\n",
       "      <td>-0.324627</td>\n",
       "      <td>-0.205900</td>\n",
       "      <td>0.061765</td>\n",
       "      <td>-0.399015</td>\n",
       "      <td>-0.703896</td>\n",
       "      <td>4.583333</td>\n",
       "    </tr>\n",
       "    <tr>\n",
       "      <th>16</th>\n",
       "      <td>-0.451271</td>\n",
       "      <td>-0.271177</td>\n",
       "      <td>-0.000578</td>\n",
       "      <td>-0.458082</td>\n",
       "      <td>0.515553</td>\n",
       "      <td>4.875000</td>\n",
       "    </tr>\n",
       "    <tr>\n",
       "      <th>17</th>\n",
       "      <td>-0.577592</td>\n",
       "      <td>0.104165</td>\n",
       "      <td>0.438132</td>\n",
       "      <td>0.286160</td>\n",
       "      <td>-0.868337</td>\n",
       "      <td>5.291667</td>\n",
       "    </tr>\n",
       "    <tr>\n",
       "      <th>18</th>\n",
       "      <td>1.070641</td>\n",
       "      <td>-0.548604</td>\n",
       "      <td>-0.108222</td>\n",
       "      <td>-0.399015</td>\n",
       "      <td>0.922036</td>\n",
       "      <td>5.416667</td>\n",
       "    </tr>\n",
       "    <tr>\n",
       "      <th>19</th>\n",
       "      <td>-0.790521</td>\n",
       "      <td>-0.401731</td>\n",
       "      <td>1.021483</td>\n",
       "      <td>-0.540775</td>\n",
       "      <td>-1.278515</td>\n",
       "      <td>6.541667</td>\n",
       "    </tr>\n",
       "    <tr>\n",
       "      <th>20</th>\n",
       "      <td>-0.961603</td>\n",
       "      <td>-0.646520</td>\n",
       "      <td>0.252577</td>\n",
       "      <td>0.286160</td>\n",
       "      <td>1.051372</td>\n",
       "      <td>5.416667</td>\n",
       "    </tr>\n",
       "    <tr>\n",
       "      <th>21</th>\n",
       "      <td>-0.351076</td>\n",
       "      <td>-0.646520</td>\n",
       "      <td>-0.364341</td>\n",
       "      <td>-1.025122</td>\n",
       "      <td>-1.873458</td>\n",
       "      <td>2.083333</td>\n",
       "    </tr>\n",
       "    <tr>\n",
       "      <th>22</th>\n",
       "      <td>0.184126</td>\n",
       "      <td>1.034362</td>\n",
       "      <td>0.566299</td>\n",
       "      <td>-0.647095</td>\n",
       "      <td>-0.934852</td>\n",
       "      <td>3.250000</td>\n",
       "    </tr>\n",
       "    <tr>\n",
       "      <th>23</th>\n",
       "      <td>-0.510736</td>\n",
       "      <td>-0.091665</td>\n",
       "      <td>-0.211350</td>\n",
       "      <td>-0.150934</td>\n",
       "      <td>-0.840622</td>\n",
       "      <td>3.750000</td>\n",
       "    </tr>\n",
       "    <tr>\n",
       "      <th>24</th>\n",
       "      <td>-0.088269</td>\n",
       "      <td>0.136804</td>\n",
       "      <td>-0.694201</td>\n",
       "      <td>0.227093</td>\n",
       "      <td>-0.099714</td>\n",
       "      <td>3.916667</td>\n",
       "    </tr>\n",
       "    <tr>\n",
       "      <th>25</th>\n",
       "      <td>0.005527</td>\n",
       "      <td>-0.613881</td>\n",
       "      <td>0.852736</td>\n",
       "      <td>-0.493522</td>\n",
       "      <td>-0.927461</td>\n",
       "      <td>4.583333</td>\n",
       "    </tr>\n",
       "    <tr>\n",
       "      <th>26</th>\n",
       "      <td>-0.394004</td>\n",
       "      <td>0.675339</td>\n",
       "      <td>-1.320970</td>\n",
       "      <td>-0.351761</td>\n",
       "      <td>-0.984739</td>\n",
       "      <td>5.291667</td>\n",
       "    </tr>\n",
       "    <tr>\n",
       "      <th>27</th>\n",
       "      <td>1.538783</td>\n",
       "      <td>-0.646520</td>\n",
       "      <td>1.004934</td>\n",
       "      <td>-0.316321</td>\n",
       "      <td>0.062879</td>\n",
       "      <td>5.166667</td>\n",
       "    </tr>\n",
       "    <tr>\n",
       "      <th>28</th>\n",
       "      <td>-0.593904</td>\n",
       "      <td>-0.254858</td>\n",
       "      <td>0.393804</td>\n",
       "      <td>-0.103681</td>\n",
       "      <td>-0.036894</td>\n",
       "      <td>4.833333</td>\n",
       "    </tr>\n",
       "    <tr>\n",
       "      <th>29</th>\n",
       "      <td>-0.244234</td>\n",
       "      <td>-0.320135</td>\n",
       "      <td>0.358026</td>\n",
       "      <td>0.699627</td>\n",
       "      <td>-0.539455</td>\n",
       "      <td>5.041667</td>\n",
       "    </tr>\n",
       "    <tr>\n",
       "      <th>...</th>\n",
       "      <td>...</td>\n",
       "      <td>...</td>\n",
       "      <td>...</td>\n",
       "      <td>...</td>\n",
       "      <td>...</td>\n",
       "      <td>...</td>\n",
       "    </tr>\n",
       "    <tr>\n",
       "      <th>64</th>\n",
       "      <td>-0.410221</td>\n",
       "      <td>-0.581243</td>\n",
       "      <td>1.018953</td>\n",
       "      <td>-0.280881</td>\n",
       "      <td>0.777920</td>\n",
       "      <td>4.916667</td>\n",
       "    </tr>\n",
       "    <tr>\n",
       "      <th>65</th>\n",
       "      <td>1.820709</td>\n",
       "      <td>5.701663</td>\n",
       "      <td>-0.816711</td>\n",
       "      <td>-0.576215</td>\n",
       "      <td>0.977466</td>\n",
       "      <td>5.291667</td>\n",
       "    </tr>\n",
       "    <tr>\n",
       "      <th>66</th>\n",
       "      <td>-0.427757</td>\n",
       "      <td>-0.271177</td>\n",
       "      <td>0.413113</td>\n",
       "      <td>-0.103681</td>\n",
       "      <td>0.033317</td>\n",
       "      <td>4.625000</td>\n",
       "    </tr>\n",
       "    <tr>\n",
       "      <th>67</th>\n",
       "      <td>-0.436983</td>\n",
       "      <td>1.246512</td>\n",
       "      <td>-0.028178</td>\n",
       "      <td>0.333413</td>\n",
       "      <td>-0.461854</td>\n",
       "      <td>4.750000</td>\n",
       "    </tr>\n",
       "    <tr>\n",
       "      <th>68</th>\n",
       "      <td>-0.022440</td>\n",
       "      <td>-0.597562</td>\n",
       "      <td>-3.449977</td>\n",
       "      <td>0.120773</td>\n",
       "      <td>0.404694</td>\n",
       "      <td>4.625000</td>\n",
       "    </tr>\n",
       "    <tr>\n",
       "      <th>69</th>\n",
       "      <td>0.097863</td>\n",
       "      <td>-0.238539</td>\n",
       "      <td>0.853866</td>\n",
       "      <td>-0.127308</td>\n",
       "      <td>0.637498</td>\n",
       "      <td>4.583333</td>\n",
       "    </tr>\n",
       "    <tr>\n",
       "      <th>70</th>\n",
       "      <td>-0.513561</td>\n",
       "      <td>1.752408</td>\n",
       "      <td>-0.164758</td>\n",
       "      <td>1.219414</td>\n",
       "      <td>0.691080</td>\n",
       "      <td>3.833333</td>\n",
       "    </tr>\n",
       "    <tr>\n",
       "      <th>71</th>\n",
       "      <td>-0.200842</td>\n",
       "      <td>2.927393</td>\n",
       "      <td>0.257737</td>\n",
       "      <td>-0.564402</td>\n",
       "      <td>-0.190249</td>\n",
       "      <td>2.625000</td>\n",
       "    </tr>\n",
       "    <tr>\n",
       "      <th>72</th>\n",
       "      <td>-0.261577</td>\n",
       "      <td>-0.059027</td>\n",
       "      <td>-0.199946</td>\n",
       "      <td>1.845522</td>\n",
       "      <td>0.537725</td>\n",
       "      <td>4.500000</td>\n",
       "    </tr>\n",
       "    <tr>\n",
       "      <th>73</th>\n",
       "      <td>-0.347937</td>\n",
       "      <td>0.136804</td>\n",
       "      <td>-0.523383</td>\n",
       "      <td>0.498800</td>\n",
       "      <td>0.210691</td>\n",
       "      <td>4.541667</td>\n",
       "    </tr>\n",
       "    <tr>\n",
       "      <th>74</th>\n",
       "      <td>-0.355146</td>\n",
       "      <td>-0.156942</td>\n",
       "      <td>0.332400</td>\n",
       "      <td>0.770507</td>\n",
       "      <td>0.107223</td>\n",
       "      <td>4.708333</td>\n",
       "    </tr>\n",
       "    <tr>\n",
       "      <th>75</th>\n",
       "      <td>0.954696</td>\n",
       "      <td>-0.303816</td>\n",
       "      <td>-0.352952</td>\n",
       "      <td>-0.162748</td>\n",
       "      <td>-0.210573</td>\n",
       "      <td>6.250000</td>\n",
       "    </tr>\n",
       "    <tr>\n",
       "      <th>76</th>\n",
       "      <td>-0.429998</td>\n",
       "      <td>-0.010069</td>\n",
       "      <td>-1.492405</td>\n",
       "      <td>-0.056428</td>\n",
       "      <td>-0.410119</td>\n",
       "      <td>5.875000</td>\n",
       "    </tr>\n",
       "    <tr>\n",
       "      <th>77</th>\n",
       "      <td>0.039414</td>\n",
       "      <td>-0.271177</td>\n",
       "      <td>-0.558358</td>\n",
       "      <td>-0.233628</td>\n",
       "      <td>-0.162534</td>\n",
       "      <td>3.666667</td>\n",
       "    </tr>\n",
       "    <tr>\n",
       "      <th>78</th>\n",
       "      <td>-0.358316</td>\n",
       "      <td>0.299996</td>\n",
       "      <td>-2.118943</td>\n",
       "      <td>0.321600</td>\n",
       "      <td>-1.500233</td>\n",
       "      <td>3.333333</td>\n",
       "    </tr>\n",
       "    <tr>\n",
       "      <th>79</th>\n",
       "      <td>-0.270396</td>\n",
       "      <td>-0.352773</td>\n",
       "      <td>-0.864816</td>\n",
       "      <td>0.605120</td>\n",
       "      <td>0.437952</td>\n",
       "      <td>3.416667</td>\n",
       "    </tr>\n",
       "    <tr>\n",
       "      <th>80</th>\n",
       "      <td>1.091378</td>\n",
       "      <td>-0.515966</td>\n",
       "      <td>0.582773</td>\n",
       "      <td>-0.741602</td>\n",
       "      <td>0.421323</td>\n",
       "      <td>3.958333</td>\n",
       "    </tr>\n",
       "    <tr>\n",
       "      <th>81</th>\n",
       "      <td>-0.565184</td>\n",
       "      <td>-0.467008</td>\n",
       "      <td>0.898547</td>\n",
       "      <td>-0.080054</td>\n",
       "      <td>-0.025808</td>\n",
       "      <td>5.375000</td>\n",
       "    </tr>\n",
       "    <tr>\n",
       "      <th>82</th>\n",
       "      <td>-0.505242</td>\n",
       "      <td>-0.418050</td>\n",
       "      <td>-0.713142</td>\n",
       "      <td>-0.647095</td>\n",
       "      <td>0.301226</td>\n",
       "      <td>4.500000</td>\n",
       "    </tr>\n",
       "    <tr>\n",
       "      <th>83</th>\n",
       "      <td>0.291030</td>\n",
       "      <td>-0.434369</td>\n",
       "      <td>-0.917524</td>\n",
       "      <td>0.014453</td>\n",
       "      <td>0.323398</td>\n",
       "      <td>4.958333</td>\n",
       "    </tr>\n",
       "    <tr>\n",
       "      <th>84</th>\n",
       "      <td>0.229425</td>\n",
       "      <td>-0.467008</td>\n",
       "      <td>-2.040516</td>\n",
       "      <td>0.014453</td>\n",
       "      <td>-2.152453</td>\n",
       "      <td>5.708333</td>\n",
       "    </tr>\n",
       "    <tr>\n",
       "      <th>85</th>\n",
       "      <td>-0.379435</td>\n",
       "      <td>-0.010069</td>\n",
       "      <td>-0.790082</td>\n",
       "      <td>1.172161</td>\n",
       "      <td>-0.971805</td>\n",
       "      <td>4.833333</td>\n",
       "    </tr>\n",
       "    <tr>\n",
       "      <th>86</th>\n",
       "      <td>-0.186411</td>\n",
       "      <td>2.062474</td>\n",
       "      <td>0.842714</td>\n",
       "      <td>-0.363575</td>\n",
       "      <td>-0.402729</td>\n",
       "      <td>3.666667</td>\n",
       "    </tr>\n",
       "    <tr>\n",
       "      <th>87</th>\n",
       "      <td>0.518429</td>\n",
       "      <td>-0.613881</td>\n",
       "      <td>-0.929188</td>\n",
       "      <td>0.026266</td>\n",
       "      <td>-0.168077</td>\n",
       "      <td>3.541667</td>\n",
       "    </tr>\n",
       "    <tr>\n",
       "      <th>88</th>\n",
       "      <td>0.279360</td>\n",
       "      <td>-0.467008</td>\n",
       "      <td>0.479148</td>\n",
       "      <td>-0.162748</td>\n",
       "      <td>0.343722</td>\n",
       "      <td>4.000000</td>\n",
       "    </tr>\n",
       "    <tr>\n",
       "      <th>89</th>\n",
       "      <td>-0.697350</td>\n",
       "      <td>-0.467008</td>\n",
       "      <td>-0.147953</td>\n",
       "      <td>-0.174561</td>\n",
       "      <td>0.766834</td>\n",
       "      <td>3.000000</td>\n",
       "    </tr>\n",
       "    <tr>\n",
       "      <th>90</th>\n",
       "      <td>0.625316</td>\n",
       "      <td>1.311789</td>\n",
       "      <td>0.675797</td>\n",
       "      <td>0.794134</td>\n",
       "      <td>0.535877</td>\n",
       "      <td>5.125000</td>\n",
       "    </tr>\n",
       "    <tr>\n",
       "      <th>91</th>\n",
       "      <td>0.055155</td>\n",
       "      <td>0.332635</td>\n",
       "      <td>-0.663680</td>\n",
       "      <td>2.140856</td>\n",
       "      <td>0.487839</td>\n",
       "      <td>5.416667</td>\n",
       "    </tr>\n",
       "    <tr>\n",
       "      <th>92</th>\n",
       "      <td>-0.504851</td>\n",
       "      <td>-0.597562</td>\n",
       "      <td>0.620628</td>\n",
       "      <td>0.203466</td>\n",
       "      <td>1.391339</td>\n",
       "      <td>5.166667</td>\n",
       "    </tr>\n",
       "    <tr>\n",
       "      <th>93</th>\n",
       "      <td>0.446070</td>\n",
       "      <td>-0.597562</td>\n",
       "      <td>0.757710</td>\n",
       "      <td>0.108959</td>\n",
       "      <td>1.492960</td>\n",
       "      <td>5.333333</td>\n",
       "    </tr>\n",
       "  </tbody>\n",
       "</table>\n",
       "<p>94 rows × 6 columns</p>\n",
       "</div>"
      ],
      "text/plain": [
       "          p3        p5        p8        p9       p13    rating\n",
       "0  -0.036745 -0.548604  0.326713 -0.812482 -0.966262  4.920000\n",
       "1  -0.611304  0.381592  0.729960  0.286160  1.417207  5.000000\n",
       "2   7.164690  0.838531  1.019429 -0.103681  2.712409  3.600000\n",
       "3  -0.856765  1.001723 -0.728357 -0.788855  0.848130  2.840000\n",
       "4  -0.630360  0.495827 -0.616105  0.061706 -0.118191  3.520000\n",
       "5  -0.264509 -0.303816  1.062106 -0.623468  0.336331  4.160000\n",
       "6  -0.553069 -0.369093  0.835051 -0.375388  0.622717  4.440000\n",
       "7  -0.787654  0.055208  0.614730 -0.706162 -0.981043  4.880000\n",
       "8  -0.726581  0.446869  0.486790  7.527744 -0.910833  5.120000\n",
       "9   1.255721 -0.646520 -1.376622 -0.469895 -0.554236  5.480000\n",
       "10  0.801490 -0.564923  1.029401 -0.765229 -0.860946  5.000000\n",
       "11 -0.287645  3.873909  0.034602  0.498800  0.713252  3.583333\n",
       "12 -0.496339 -0.581243  0.976880 -0.989682 -0.622599  2.750000\n",
       "13 -0.546600 -0.450689  0.121053  0.699627 -1.204609  4.083333\n",
       "14  0.193719 -0.385412  1.071527 -0.517148  0.016688  3.875000\n",
       "15 -0.324627 -0.205900  0.061765 -0.399015 -0.703896  4.583333\n",
       "16 -0.451271 -0.271177 -0.000578 -0.458082  0.515553  4.875000\n",
       "17 -0.577592  0.104165  0.438132  0.286160 -0.868337  5.291667\n",
       "18  1.070641 -0.548604 -0.108222 -0.399015  0.922036  5.416667\n",
       "19 -0.790521 -0.401731  1.021483 -0.540775 -1.278515  6.541667\n",
       "20 -0.961603 -0.646520  0.252577  0.286160  1.051372  5.416667\n",
       "21 -0.351076 -0.646520 -0.364341 -1.025122 -1.873458  2.083333\n",
       "22  0.184126  1.034362  0.566299 -0.647095 -0.934852  3.250000\n",
       "23 -0.510736 -0.091665 -0.211350 -0.150934 -0.840622  3.750000\n",
       "24 -0.088269  0.136804 -0.694201  0.227093 -0.099714  3.916667\n",
       "25  0.005527 -0.613881  0.852736 -0.493522 -0.927461  4.583333\n",
       "26 -0.394004  0.675339 -1.320970 -0.351761 -0.984739  5.291667\n",
       "27  1.538783 -0.646520  1.004934 -0.316321  0.062879  5.166667\n",
       "28 -0.593904 -0.254858  0.393804 -0.103681 -0.036894  4.833333\n",
       "29 -0.244234 -0.320135  0.358026  0.699627 -0.539455  5.041667\n",
       "..       ...       ...       ...       ...       ...       ...\n",
       "64 -0.410221 -0.581243  1.018953 -0.280881  0.777920  4.916667\n",
       "65  1.820709  5.701663 -0.816711 -0.576215  0.977466  5.291667\n",
       "66 -0.427757 -0.271177  0.413113 -0.103681  0.033317  4.625000\n",
       "67 -0.436983  1.246512 -0.028178  0.333413 -0.461854  4.750000\n",
       "68 -0.022440 -0.597562 -3.449977  0.120773  0.404694  4.625000\n",
       "69  0.097863 -0.238539  0.853866 -0.127308  0.637498  4.583333\n",
       "70 -0.513561  1.752408 -0.164758  1.219414  0.691080  3.833333\n",
       "71 -0.200842  2.927393  0.257737 -0.564402 -0.190249  2.625000\n",
       "72 -0.261577 -0.059027 -0.199946  1.845522  0.537725  4.500000\n",
       "73 -0.347937  0.136804 -0.523383  0.498800  0.210691  4.541667\n",
       "74 -0.355146 -0.156942  0.332400  0.770507  0.107223  4.708333\n",
       "75  0.954696 -0.303816 -0.352952 -0.162748 -0.210573  6.250000\n",
       "76 -0.429998 -0.010069 -1.492405 -0.056428 -0.410119  5.875000\n",
       "77  0.039414 -0.271177 -0.558358 -0.233628 -0.162534  3.666667\n",
       "78 -0.358316  0.299996 -2.118943  0.321600 -1.500233  3.333333\n",
       "79 -0.270396 -0.352773 -0.864816  0.605120  0.437952  3.416667\n",
       "80  1.091378 -0.515966  0.582773 -0.741602  0.421323  3.958333\n",
       "81 -0.565184 -0.467008  0.898547 -0.080054 -0.025808  5.375000\n",
       "82 -0.505242 -0.418050 -0.713142 -0.647095  0.301226  4.500000\n",
       "83  0.291030 -0.434369 -0.917524  0.014453  0.323398  4.958333\n",
       "84  0.229425 -0.467008 -2.040516  0.014453 -2.152453  5.708333\n",
       "85 -0.379435 -0.010069 -0.790082  1.172161 -0.971805  4.833333\n",
       "86 -0.186411  2.062474  0.842714 -0.363575 -0.402729  3.666667\n",
       "87  0.518429 -0.613881 -0.929188  0.026266 -0.168077  3.541667\n",
       "88  0.279360 -0.467008  0.479148 -0.162748  0.343722  4.000000\n",
       "89 -0.697350 -0.467008 -0.147953 -0.174561  0.766834  3.000000\n",
       "90  0.625316  1.311789  0.675797  0.794134  0.535877  5.125000\n",
       "91  0.055155  0.332635 -0.663680  2.140856  0.487839  5.416667\n",
       "92 -0.504851 -0.597562  0.620628  0.203466  1.391339  5.166667\n",
       "93  0.446070 -0.597562  0.757710  0.108959  1.492960  5.333333\n",
       "\n",
       "[94 rows x 6 columns]"
      ]
     },
     "execution_count": 895,
     "metadata": {},
     "output_type": "execute_result"
    }
   ],
   "source": [
    "data=dropMetrics(data)\n",
    "rating=data['rating']\n",
    "data=transDF(data)\n",
    "data['rating']=rating\n",
    "data"
   ]
  },
  {
   "cell_type": "code",
   "execution_count": 896,
   "metadata": {},
   "outputs": [
    {
     "data": {
      "text/plain": [
       "Index(['rating', 'p9', 'p3', 'p13', 'p8', 'p5'], dtype='object')"
      ]
     },
     "execution_count": 896,
     "metadata": {},
     "output_type": "execute_result"
    }
   ],
   "source": [
    "correlation = data.corr(method='pearson')\n",
    "columns = correlation.nlargest(13,'rating').index\n",
    "columns\n",
    "#np.sort(columns)"
   ]
  },
  {
   "cell_type": "code",
   "execution_count": 897,
   "metadata": {},
   "outputs": [
    {
     "data": {
      "image/png": "[encoded data removed]",
      "text/plain": [
       "<Figure size 720x720 with 2 Axes>"
      ]
     },
     "metadata": {},
     "output_type": "display_data"
    }
   ],
   "source": [
    "fig, ax = plt.subplots(figsize=(10,10))    \n",
    "correlation_map = np.corrcoef(data[columns].values.T)\n",
    "sns.set(font_scale=1)\n",
    "heatmap = sns.heatmap(correlation_map, cbar=True, annot=True, square=True, fmt='.2f',yticklabels=columns.values, xticklabels=columns.values)\n",
    "plt.savefig('corr.png')\n",
    "#plt.show()\n"
   ]
  },
  {
   "cell_type": "code",
   "execution_count": 898,
   "metadata": {},
   "outputs": [
    {
     "name": "stderr",
     "output_type": "stream",
     "text": [
      "/usr/local/lib/python3.6/site-packages/pandas/core/frame.py:3697: SettingWithCopyWarning: \n",
      "A value is trying to be set on a copy of a slice from a DataFrame\n",
      "\n",
      "See the caveats in the documentation: http://pandas.pydata.org/pandas-docs/stable/indexing.html#indexing-view-versus-copy\n",
      "  errors=errors)\n"
     ]
    }
   ],
   "source": [
    "data['bias']=np.ones(data[data.columns[0]].shape)\n",
    "Y=data['rating'].values\n",
    "X_temp=data[columns]\n",
    "X_temp.drop(['rating'],1, inplace=True)\n",
    "X=X_temp.values"
   ]
  },
  {
   "cell_type": "code",
   "execution_count": 899,
   "metadata": {},
   "outputs": [],
   "source": [
    "data_dmatrix= xgb.DMatrix(data=X,label=Y)"
   ]
  },
  {
   "cell_type": "code",
   "execution_count": 900,
   "metadata": {},
   "outputs": [],
   "source": [
    "from sklearn.model_selection import train_test_split\n",
    "X_train, X_test, Y_train, Y_test = train_test_split(X, Y, shuffle='True',test_size=0.5, random_state=1)"
   ]
  },
  {
   "cell_type": "code",
   "execution_count": 901,
   "metadata": {},
   "outputs": [],
   "source": [
    "def LinearReg():\n",
    "    from sklearn.linear_model import LinearRegression\n",
    "    reg =LinearRegression()\n",
    "    return reg\n",
    "def RidgeReg():\n",
    "    from sklearn.linear_model import Ridge\n",
    "    reg =Ridge()\n",
    "    return reg\n",
    "def ABReg():\n",
    "    from sklearn.ensemble import AdaBoostRegressor\n",
    "    reg=AdaBoostRegressor(random_state=0, n_estimators=100)\n",
    "    return reg\n",
    "def DTReg():\n",
    "    from sklearn.tree import DecisionTreeRegressor\n",
    "    reg=DecisionTreeRegressor(random_state=0)\n",
    "    return reg\n",
    "def MLPReg():\n",
    "    from sklearn.neural_network import MLPRegressor\n",
    "    reg=MLPRegressor(hidden_layer_sizes=(4,),activation='logistic',solver='adam', max_iter=10000,batch_size=10,)\n",
    "    return reg\n",
    "def LogReg():\n",
    "    from sklearn.linear_model import LogisticRegression\n",
    "    reg=LogisticRegression()\n",
    "    return reg\n",
    "def XGBReg():\n",
    "    reg=xgb.XGBRegressor(objective ='reg:linear', colsample_bytree = 0.3, learning_rate = 0.1,max_depth = 5, alpha = 10, n_estimators = 10)\n",
    "    return reg\n",
    "def RMS_test(reg):\n",
    "    from sklearn.metrics import mean_squared_error\n",
    "    Y_pred=reg.predict(X_test)\n",
    "    return mean_squared_error(Y_test, Y_pred)\n",
    "def RMS_train(reg):\n",
    "    from sklearn.metrics import mean_squared_error\n",
    "    Y_pred=reg.predict(X_train)\n",
    "    return mean_squared_error(Y_train, Y_pred)\n"
   ]
  },
  {
   "cell_type": "code",
   "execution_count": 902,
   "metadata": {},
   "outputs": [
    {
     "data": {
      "text/plain": [
       "LinearRegression(copy_X=True, fit_intercept=True, n_jobs=1, normalize=False)"
      ]
     },
     "execution_count": 902,
     "metadata": {},
     "output_type": "execute_result"
    }
   ],
   "source": [
    "regLinear=LinearReg()\n",
    "regLinear.fit(X_train,Y_train)"
   ]
  },
  {
   "cell_type": "code",
   "execution_count": 903,
   "metadata": {},
   "outputs": [
    {
     "data": {
      "text/plain": [
       "Ridge(alpha=1.0, copy_X=True, fit_intercept=True, max_iter=None,\n",
       "   normalize=False, random_state=None, solver='auto', tol=0.001)"
      ]
     },
     "execution_count": 903,
     "metadata": {},
     "output_type": "execute_result"
    }
   ],
   "source": [
    "regRidge=RidgeReg()\n",
    "regRidge.fit(X_train,Y_train)"
   ]
  },
  {
   "cell_type": "code",
   "execution_count": 904,
   "metadata": {},
   "outputs": [
    {
     "data": {
      "text/plain": [
       "AdaBoostRegressor(base_estimator=None, learning_rate=1.0, loss='linear',\n",
       "         n_estimators=100, random_state=0)"
      ]
     },
     "execution_count": 904,
     "metadata": {},
     "output_type": "execute_result"
    }
   ],
   "source": [
    "regAB=ABReg()\n",
    "regAB.fit(X_train,Y_train)"
   ]
  },
  {
   "cell_type": "code",
   "execution_count": 905,
   "metadata": {},
   "outputs": [
    {
     "data": {
      "text/plain": [
       "DecisionTreeRegressor(criterion='mse', max_depth=None, max_features=None,\n",
       "           max_leaf_nodes=None, min_impurity_decrease=0.0,\n",
       "           min_impurity_split=None, min_samples_leaf=1,\n",
       "           min_samples_split=2, min_weight_fraction_leaf=0.0,\n",
       "           presort=False, random_state=0, splitter='best')"
      ]
     },
     "execution_count": 905,
     "metadata": {},
     "output_type": "execute_result"
    }
   ],
   "source": [
    "regDT=DTReg()\n",
    "regDT.fit(X_train,Y_train)"
   ]
  },
  {
   "cell_type": "code",
   "execution_count": 906,
   "metadata": {},
   "outputs": [
    {
     "data": {
      "text/plain": [
       "MLPRegressor(activation='logistic', alpha=0.0001, batch_size=10, beta_1=0.9,\n",
       "       beta_2=0.999, early_stopping=False, epsilon=1e-08,\n",
       "       hidden_layer_sizes=(4,), learning_rate='constant',\n",
       "       learning_rate_init=0.001, max_iter=10000, momentum=0.9,\n",
       "       nesterovs_momentum=True, power_t=0.5, random_state=None,\n",
       "       shuffle=True, solver='adam', tol=0.0001, validation_fraction=0.1,\n",
       "       verbose=False, warm_start=False)"
      ]
     },
     "execution_count": 906,
     "metadata": {},
     "output_type": "execute_result"
    }
   ],
   "source": [
    "regMLP=MLPReg()\n",
    "regMLP.fit(X_train,Y_train)"
   ]
  },
  {
   "cell_type": "code",
   "execution_count": 907,
   "metadata": {},
   "outputs": [
    {
     "data": {
      "text/plain": [
       "XGBRegressor(alpha=10, base_score=0.5, booster='gbtree', colsample_bylevel=1,\n",
       "       colsample_bytree=0.3, gamma=0, importance_type='gain',\n",
       "       learning_rate=0.1, max_delta_step=0, max_depth=5,\n",
       "       min_child_weight=1, missing=None, n_estimators=10, n_jobs=1,\n",
       "       nthread=None, objective='reg:linear', random_state=0, reg_alpha=0,\n",
       "       reg_lambda=1, scale_pos_weight=1, seed=None, silent=True,\n",
       "       subsample=1)"
      ]
     },
     "execution_count": 907,
     "metadata": {},
     "output_type": "execute_result"
    }
   ],
   "source": [
    "regXGB=XGBReg()\n",
    "regXGB.fit(X_train,Y_train)"
   ]
  },
  {
   "cell_type": "code",
   "execution_count": 908,
   "metadata": {},
   "outputs": [],
   "source": [
    "test=[RMS_test(regLinear),RMS_test(regRidge),RMS_test(regAB),RMS_test(regDT),RMS_test(regMLP),RMS_test(regXGB)]\n",
    "train=[RMS_train(regLinear),RMS_train(regRidge),RMS_train(regAB),RMS_train(regDT),RMS_train(regMLP),RMS_train(regXGB)]\n"
   ]
  },
  {
   "cell_type": "code",
   "execution_count": 909,
   "metadata": {},
   "outputs": [
    {
     "name": "stdout",
     "output_type": "stream",
     "text": [
      "(0.9999371395969436, 0.6374436046188123)\n",
      "(0.965533975229171, 0.6377196442365916)\n",
      "(0.8394129321689702, 0.10364467919565884)\n",
      "(1.6265325650118203, 0.0)\n",
      "(0.6777976662972945, 0.5783503554467608)\n",
      "(2.495934360061072, 2.669947965452066)\n"
     ]
    }
   ],
   "source": [
    "for i in zip(test,train):\n",
    "    print(i)"
   ]
  },
  {
   "cell_type": "code",
   "execution_count": 910,
   "metadata": {},
   "outputs": [
    {
     "name": "stdout",
     "output_type": "stream",
     "text": [
      "(0.9999371395969436, 0.6374436046188123)\n",
      "(0.965533975229171, 0.6377196442365916)\n",
      "(0.8394129321689702, 0.10364467919565884)\n",
      "(1.6265325650118203, 0.0)\n",
      "(0.6777976662972945, 0.5783503554467608)\n",
      "(2.495934360061072, 2.669947965452066)\n"
     ]
    }
   ],
   "source": [
    "for i in zip(test,train):\n",
    "    print(i)"
   ]
  },
  {
   "cell_type": "code",
   "execution_count": 911,
   "metadata": {},
   "outputs": [
    {
     "data": {
      "text/plain": [
       "array([ 0.22872918,  0.47200138,  0.08052402, -0.0114207 , -0.2900206 ])"
      ]
     },
     "execution_count": 911,
     "metadata": {},
     "output_type": "execute_result"
    }
   ],
   "source": [
    "regLinear.coef_"
   ]
  },
  {
   "cell_type": "code",
   "execution_count": 912,
   "metadata": {},
   "outputs": [
    {
     "data": {
      "text/plain": [
       "Index(['rating', 'p9', 'p3', 'p13', 'p8', 'p5'], dtype='object')"
      ]
     },
     "execution_count": 912,
     "metadata": {},
     "output_type": "execute_result"
    }
   ],
   "source": [
    "columns"
   ]
  },
  {
   "cell_type": "code",
   "execution_count": 913,
   "metadata": {},
   "outputs": [],
   "source": [
    "df={}\n",
    "for year in range(2000,2020):\n",
    "    df[str(year)]=pd.read_csv('yearMetrics/tempMpUrlMetrics'+str(year)+'.csv')\n",
    "    df[str(year)]=dropMetrics(df[str(year)])\n",
    "    df[str(year)]=transDF(df[str(year)])"
   ]
  },
  {
   "cell_type": "code",
   "execution_count": 914,
   "metadata": {},
   "outputs": [
    {
     "data": {
      "text/plain": [
       "Index(['p9', 'p3', 'p13', 'p8', 'p5'], dtype='object')"
      ]
     },
     "execution_count": 914,
     "metadata": {},
     "output_type": "execute_result"
    }
   ],
   "source": [
    "columns[1:]"
   ]
  },
  {
   "cell_type": "code",
   "execution_count": 915,
   "metadata": {},
   "outputs": [],
   "source": [
    "meanYears=np.zeros(20)\n",
    "stdYears=np.zeros(20)\n",
    "for year in range(2000,2020):\n",
    "    meanYears[year-2000]=np.mean(regMLP.predict(df[str(year)][columns[1:]].values))\n",
    "    stdYears[year-2000]=np.std(regMLP.predict(df[str(year)][columns[1:]].values))"
   ]
  },
  {
   "cell_type": "code",
   "execution_count": 916,
   "metadata": {},
   "outputs": [
    {
     "data": {
      "text/plain": [
       "(array([4.43022735, 4.45417022, 4.47243634, 4.45414192, 4.46262255,\n",
       "        4.46394989, 4.45377086, 4.44094273, 4.43421105, 4.44620204,\n",
       "        4.43395924, 4.44490601, 4.43700642, 4.43706831, 4.43370428,\n",
       "        4.4184251 , 4.42165817, 4.41368443, 4.40845194, 4.43419172]),\n",
       " array([0.41994003, 0.37384255, 0.33003571, 0.3912512 , 0.36718028,\n",
       "        0.35167447, 0.36353843, 0.43538249, 0.42644143, 0.389014  ,\n",
       "        0.41549752, 0.45150199, 0.43519287, 0.41481281, 0.43905008,\n",
       "        0.48841853, 0.51091397, 0.51010877, 0.51738537, 0.48757659]))"
      ]
     },
     "execution_count": 916,
     "metadata": {},
     "output_type": "execute_result"
    }
   ],
   "source": [
    "meanYears,stdYears"
   ]
  },
  {
   "cell_type": "code",
   "execution_count": 917,
   "metadata": {},
   "outputs": [
    {
     "data": {
      "image/png": "[encoded data removed]",
      "text/plain": [
       "<Figure size 432x288 with 1 Axes>"
      ]
     },
     "metadata": {},
     "output_type": "display_data"
    }
   ],
   "source": [
    "x=range(2000,2020)\n",
    "y=meanYears\n",
    "e=stdYears*0\n",
    "plt.errorbar(x, y, e, fmt='-o')\n",
    "plt.show()"
   ]
  },
  {
   "cell_type": "code",
   "execution_count": null,
   "metadata": {},
   "outputs": [],
   "source": []
  },
  {
   "cell_type": "code",
   "execution_count": null,
   "metadata": {},
   "outputs": [],
   "source": []
  }
 ],
 "metadata": {
  "kernelspec": {
   "display_name": "Python 3",
   "language": "python",
   "name": "python3"
  },
  "language_info": {
   "codemirror_mode": {
    "name": "ipython",
    "version": 3
   },
   "file_extension": ".py",
   "mimetype": "text/x-python",
   "name": "python",
   "nbconvert_exporter": "python",
   "pygments_lexer": "ipython3",
   "version": "3.6.1"
  }
 },
 "nbformat": 4,
 "nbformat_minor": 2
}
