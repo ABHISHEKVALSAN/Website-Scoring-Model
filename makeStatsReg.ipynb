{
 "cells": [
  {
   "cell_type": "code",
   "execution_count": 67,
   "metadata": {},
   "outputs": [],
   "source": [
    "import pandas as pd\n",
    "import numpy as np\n",
    "import matplotlib.pyplot as plt\n",
    "import seaborn as sns\n",
    "from sklearn import preprocessing\n",
    "import statsmodels.formula.api as smf\n",
    "import statsmodels.api as sm"
   ]
  },
  {
   "cell_type": "code",
   "execution_count": 68,
   "metadata": {},
   "outputs": [],
   "source": [
    "dfr=pd.read_csv('tempSiteRatings.csv')\n",
    "dfd=pd.read_csv('tempUrlMetrics.csv')\n",
    "dfd['rating']=dfr['rating']\n",
    "dfd.to_csv('dataReg.csv')"
   ]
  },
  {
   "cell_type": "code",
   "execution_count": 69,
   "metadata": {},
   "outputs": [],
   "source": [
    "data=pd.read_csv('dataReg.csv')\n",
    "data.drop(['Unnamed: 0'],1, inplace=True)"
   ]
  },
  {
   "cell_type": "code",
   "execution_count": 70,
   "metadata": {},
   "outputs": [],
   "source": [
    "def changeColName(data):\n",
    "    try:\n",
    "        columns=['word_count','body_text_percent','emphasized_text_percent','text_position_changes','text_cluster_count','link_count','page_size','graphic_percent','graphic_count','colour_count','font_count','colourfulness','visual_complexity','rating']\n",
    "        data.columns=columns\n",
    "    except:\n",
    "        columns=['word_count','body_text_percent','emphasized_text_percent','text_position_changes','text_cluster_count','link_count','page_size','graphic_percent','graphic_count','colour_count','font_count','colourfulness','visual_complexity']\n",
    "        data.columns=columns\n",
    "    return data\n",
    "def dropMetrics(data):\n",
    "    try:\n",
    "        data.drop(['id','url'],1, inplace=True)#,'p1','p2','p4','p6','p7','p10','p11','p12','p13'\n",
    "    except:\n",
    "        data.drop(['slno','url'],1, inplace=True)\n",
    "    return data\n",
    "def stdNormal(data,mean,std):\n",
    "    x = data.values #returns a numpy array\n",
    "    columns=data.columns\n",
    "    x_scaled=(x-mean)/std\n",
    "    data=pd.DataFrame(x_scaled,columns=columns)\n",
    "    return data\n",
    "def catCol(data,col):\n",
    "    data[col+'_high']=np.zeros(data[col].shape)\n",
    "    data[col+'_avg']=np.ones(data[col].shape)\n",
    "    data[col+'_low']=np.zeros(data[col].shape)\n",
    "\n",
    "    data[col+'_high'][np.where(data[col]>.431)[0]]=1.0\n",
    "    data[col+'_avg'][np.where(data[col]>.431)[0]]=0.0\n",
    "    data[col+'_avg'][np.where(data[col]<-.431)[0]]=0.0\n",
    "    data[col+'_low'][np.where(data[col]<-.431)[0]]=1.0\n",
    "    data.drop([col],1,inplace=True)\n",
    "    return data\n",
    "def catColPdf(data,col):\n",
    "    import scipy.stats\n",
    "    \n",
    "    mean_high=np.mean(data[col][np.where(data[col]>.431)[0]])\n",
    "    std_high=np.std(data[col][np.where(data[col]>.431)[0]])\n",
    "\n",
    "\n",
    "    mean_avg=np.mean(data[col][np.where(abs(data[col])<.431)[0]])\n",
    "    std_avg=np.std(data[col][np.where(abs(data[col])<.431)[0]])\n",
    "\n",
    "    mean_low=np.mean(data[col][np.where(data[col]<-.431)[0]])\n",
    "    std_low=np.std(data[col][np.where(data[col]<-.431)[0]])\n",
    "\n",
    "    data[col+'_high']=scipy.stats.norm(mean_high,std_high).pdf(data[col].values)\n",
    "    data[col+'_avg']=scipy.stats.norm(mean_avg,std_avg).pdf(data[col].values)\n",
    "    data[col+'_low']=scipy.stats.norm(mean_low,std_low).pdf(data[col].values)\n",
    "    \n",
    "    data.drop([col],1,inplace=True)\n",
    "    \n",
    "    return data\n",
    "def preProcess(data,mean,std):\n",
    "    data=changeColName(data)\n",
    "    try:\n",
    "        rating=data['rating']\n",
    "        data.drop(['rating'],1,inplace=True)\n",
    "    except:\n",
    "        pass\n",
    "    data=stdNormal(data,mean,std)\n",
    "    data=catCol(data,'word_count')\n",
    "    data=catCol(data,'page_size') \n",
    "    data=catCol(data,'colourfulness') \n",
    "    data=catCol(data,'visual_complexity') \n",
    "    try:\n",
    "        data['rating']=rating\n",
    "    except:\n",
    "        pass\n",
    "    return data"
   ]
  },
  {
   "cell_type": "code",
   "execution_count": 71,
   "metadata": {},
   "outputs": [],
   "source": [
    "data=dropMetrics(data)"
   ]
  },
  {
   "cell_type": "code",
   "execution_count": 72,
   "metadata": {},
   "outputs": [],
   "source": [
    "mean=np.mean(data.values[:,:-1],axis=0)\n",
    "std=np.std(data.values[:,:-1],axis=0)\n"
   ]
  },
  {
   "cell_type": "code",
   "execution_count": 73,
   "metadata": {},
   "outputs": [
    {
     "name": "stderr",
     "output_type": "stream",
     "text": [
      "/home/abhiavk/anaconda3/lib/python3.6/site-packages/ipykernel_launcher.py:18: RuntimeWarning: invalid value encountered in true_divide\n"
     ]
    }
   ],
   "source": [
    "data=preProcess(data,mean,std)\n",
    "irrCol=['emphasized_text_percent','font_count']\n",
    "data.drop(irrCol,1,inplace=True)"
   ]
  },
  {
   "cell_type": "code",
   "execution_count": 74,
   "metadata": {},
   "outputs": [],
   "source": [
    "correlation = data.corr(method='pearson')\n",
    "columns = correlation.nlargest(30,'rating').index\n"
   ]
  },
  {
   "cell_type": "code",
   "execution_count": 75,
   "metadata": {},
   "outputs": [],
   "source": [
    "def corr():\n",
    "    fig, ax = plt.subplots(figsize=(30,30))    \n",
    "    correlation_map = np.corrcoef(data[columns].values.T)\n",
    "    sns.set(font_scale=2.4)\n",
    "    heatmap = sns.heatmap(correlation_map, cbar=True, annot=True, annot_kws={\"size\": 30},square=True, fmt='.2f',yticklabels=columns.values, xticklabels=columns.values)\n",
    "    plt.rcParams[\"font.family\"] = \"Times New Roman\"\n",
    "    plt.rcParams[\"font.size\"] = 50\n",
    "    plt.savefig('corr')"
   ]
  },
  {
   "cell_type": "code",
   "execution_count": 76,
   "metadata": {},
   "outputs": [],
   "source": [
    "columns=columns.tolist()\n",
    "columns.sort()\n",
    "columns=pd.Index(columns)"
   ]
  },
  {
   "cell_type": "code",
   "execution_count": 77,
   "metadata": {},
   "outputs": [],
   "source": [
    "Y=data['rating'].values\n",
    "X_temp=data[columns]\n",
    "X_temp.drop(['rating'],1, inplace=True)\n",
    "X=X_temp.values\n",
    "columns=columns.drop('rating')"
   ]
  },
  {
   "cell_type": "code",
   "execution_count": 78,
   "metadata": {},
   "outputs": [],
   "source": [
    "from sklearn.model_selection import train_test_split\n",
    "X_train, X_test, Y_train, Y_test = train_test_split(X, Y, shuffle=True,test_size=0.3, random_state=1)\n",
    "\n",
    "def RMS_test(reg):\n",
    "    from sklearn.metrics import mean_squared_error\n",
    "    Y_pred=reg.predict(X_test)\n",
    "    return Y_pred,mean_squared_error(Y_test, Y_pred)\n",
    "def RMS_train(reg):\n",
    "    from sklearn.metrics import mean_squared_error\n",
    "    Y_pred=reg.predict(X_train)\n",
    "    return Y_pred,mean_squared_error(Y_train, Y_pred)\n",
    "def RMS(reg):\n",
    "    from sklearn.metrics import mean_squared_error\n",
    "    Y_pred=reg.predict(X)\n",
    "    return Y_pred,mean_squared_error(Y, Y_pred)\n",
    "def getRMS(reg):\n",
    "    print(RMS_test(reg)[1],RMS_train(reg)[1])\n",
    "def getRV(reg):\n",
    "    Y_pred=RMS_test(reg)[0]\n",
    "    Y_pred=RMS(reg)[0]\n",
    "    rsq=np.sum((Y_pred-np.mean(Y_pred))**2)/np.sum((Y-np.mean(Y))**2)\n",
    "    N,p=X.shape\n",
    "    adjRsq=1-((1-rsq)*(N-1)/(N-p-1))\n",
    "    print(rsq,adjRsq)"
   ]
  },
  {
   "cell_type": "code",
   "execution_count": 80,
   "metadata": {},
   "outputs": [
    {
     "data": {
      "text/plain": [
       "Index(['body_text_percent', 'colour_count', 'colourfulness_avg',\n",
       "       'colourfulness_high', 'colourfulness_low', 'graphic_count',\n",
       "       'graphic_percent', 'link_count', 'page_size_avg', 'page_size_high',\n",
       "       'page_size_low', 'text_cluster_count', 'text_position_changes',\n",
       "       'visual_complexity_avg', 'visual_complexity_high',\n",
       "       'visual_complexity_low', 'word_count_avg', 'word_count_high',\n",
       "       'word_count_low'],\n",
       "      dtype='object')"
      ]
     },
     "execution_count": 80,
     "metadata": {},
     "output_type": "execute_result"
    }
   ],
   "source": [
    "columns"
   ]
  },
  {
   "cell_type": "code",
   "execution_count": 81,
   "metadata": {},
   "outputs": [
    {
     "data": {
      "text/plain": [
       "'rating ~ body_text_percent + colour_count + colourfulness_avg + colourfulness_high + colourfulness_low + graphic_count + graphic_percent + link_count + page_size_avg + page_size_high + page_size_low + text_cluster_count + text_position_changes + visual_complexity_avg + visual_complexity_high + visual_complexity_low + word_count_avg + word_count_high + word_count_low'"
      ]
     },
     "execution_count": 81,
     "metadata": {},
     "output_type": "execute_result"
    }
   ],
   "source": [
    "col='rating ~ '\n",
    "for i in columns:\n",
    "    col+=i+' + '\n",
    "col=col[:-3]\n",
    "col"
   ]
  },
  {
   "cell_type": "code",
   "execution_count": 82,
   "metadata": {},
   "outputs": [],
   "source": [
    "reg=smf.ols(col,data=data).fit()"
   ]
  },
  {
   "cell_type": "code",
   "execution_count": 83,
   "metadata": {},
   "outputs": [],
   "source": [
    "reg=sm.OLS(Y,X).fit()"
   ]
  },
  {
   "cell_type": "code",
   "execution_count": 86,
   "metadata": {},
   "outputs": [
    {
     "data": {
      "text/plain": [
       "(2.200171833423492, 0.013013155561838076)"
      ]
     },
     "execution_count": 86,
     "metadata": {},
     "output_type": "execute_result"
    }
   ],
   "source": [
    "reg.fvalue,reg.f_pvalue"
   ]
  },
  {
   "cell_type": "code",
   "execution_count": 53,
   "metadata": {},
   "outputs": [
    {
     "data": {
      "text/plain": [
       "array([-0.0484363 , -0.11096567,  0.91073359,  1.04038209,  1.10366847,\n",
       "        0.28351828, -0.04507594, -0.0858187 ,  1.28335265,  1.69534203,\n",
       "        0.07608947, -0.20395379, -0.13099741,  1.02781056,  1.1044421 ,\n",
       "        0.92253149,  1.33764855,  0.64728108,  1.06985451])"
      ]
     },
     "execution_count": 53,
     "metadata": {},
     "output_type": "execute_result"
    }
   ],
   "source": [
    "reg.params"
   ]
  },
  {
   "cell_type": "code",
   "execution_count": 54,
   "metadata": {},
   "outputs": [
    {
     "data": {
      "text/plain": [
       "Index(['body_text_percent', 'colour_count', 'colourfulness_avg',\n",
       "       'colourfulness_high', 'colourfulness_low', 'graphic_count',\n",
       "       'graphic_percent', 'link_count', 'page_size_avg', 'page_size_high',\n",
       "       'page_size_low', 'text_cluster_count', 'text_position_changes',\n",
       "       'visual_complexity_avg', 'visual_complexity_high',\n",
       "       'visual_complexity_low', 'word_count_avg', 'word_count_high',\n",
       "       'word_count_low'],\n",
       "      dtype='object')"
      ]
     },
     "execution_count": 54,
     "metadata": {},
     "output_type": "execute_result"
    }
   ],
   "source": [
    "columns"
   ]
  },
  {
   "cell_type": "code",
   "execution_count": null,
   "metadata": {},
   "outputs": [],
   "source": []
  }
 ],
 "metadata": {
  "kernelspec": {
   "display_name": "Python 3",
   "language": "python",
   "name": "python3"
  },
  "language_info": {
   "codemirror_mode": {
    "name": "ipython",
    "version": 3
   },
   "file_extension": ".py",
   "mimetype": "text/x-python",
   "name": "python",
   "nbconvert_exporter": "python",
   "pygments_lexer": "ipython3",
   "version": "3.6.8"
  }
 },
 "nbformat": 4,
 "nbformat_minor": 2
}
